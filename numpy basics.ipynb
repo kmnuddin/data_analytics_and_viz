{
 "cells": [
  {
   "cell_type": "markdown",
   "metadata": {},
   "source": [
    "## NumPy Basics\n",
    "\n",
    "<em>\"<strong>NumPy</strong> is the fundamental package for scientific computing in Python. It is a Python library that provides a multidimensional array object, various derived objects (such as masked arrays and matrices), and an assortment of routines for fast operations on arrays, including mathematical, logical, shape manipulation, sorting, selecting, I/O, discrete Fourier transforms, basic linear algebra, basic statistical operations, random simulation and much more.\n",
    "\n",
    "At the core of the NumPy package, is the ndarray object. This encapsulates n-dimensional arrays of homogeneous data types, with many operations being performed in compiled code for performance. There are several important differences between NumPy arrays and the standard Python sequences:\n",
    "\n",
    "\n",
    "1. NumPy arrays have a fixed size at creation, unlike Python lists (which can grow dynamically). Changing the size of an ndarray will create a new array and delete the original.\n",
    "\n",
    "\n",
    "2. The elements in a NumPy array are all required to be of the same data type, and thus will be the same size in memory. The exception: one can have arrays of (Python, including NumPy) objects, thereby allowing for arrays of different sized elements.\n",
    "\n",
    "\n",
    "3. NumPy arrays facilitate advanced mathematical and other types of operations on large numbers of data. Typically, such operations are executed more efficiently and with less code than is possible using Python’s built-in sequences.\n",
    "\n",
    "\n",
    "4. A growing plethora of scientific and mathematical Python-based packages are using NumPy arrays; though these typically support Python-sequence input, they convert such input to NumPy arrays prior to processing, and they often output NumPy arrays. In other words, in order to efficiently use much (perhaps even most) of today’s scientific/mathematical Python-based software, just knowing how to use Python’s built-in sequence types is insufficient - one also needs to know how to use NumPy arrays.\"</em> Source: https://numpy.org/"
   ]
  },
  {
   "cell_type": "markdown",
   "metadata": {},
   "source": [
    "Lets get a more intuition on why we need numpy. Say, we want to do a matrix multiplication using the default 2d array in python."
   ]
  },
  {
   "cell_type": "code",
   "execution_count": 1,
   "metadata": {},
   "outputs": [
    {
     "ename": "TypeError",
     "evalue": "can't multiply sequence by non-int of type 'list'",
     "output_type": "error",
     "traceback": [
      "\u001b[1;31m---------------------------------------------------------------------------\u001b[0m",
      "\u001b[1;31mTypeError\u001b[0m                                 Traceback (most recent call last)",
      "\u001b[1;32m<ipython-input-1-3a0566b326d2>\u001b[0m in \u001b[0;36m<module>\u001b[1;34m\u001b[0m\n\u001b[0;32m      2\u001b[0m \u001b[0mb\u001b[0m \u001b[1;33m=\u001b[0m \u001b[1;33m[\u001b[0m\u001b[1;33m[\u001b[0m\u001b[1;36m4\u001b[0m\u001b[1;33m,\u001b[0m \u001b[1;36m5\u001b[0m\u001b[1;33m]\u001b[0m\u001b[1;33m,\u001b[0m \u001b[1;33m[\u001b[0m\u001b[1;36m12\u001b[0m\u001b[1;33m,\u001b[0m \u001b[1;36m7\u001b[0m\u001b[1;33m]\u001b[0m\u001b[1;33m]\u001b[0m\u001b[1;33m\u001b[0m\u001b[1;33m\u001b[0m\u001b[0m\n\u001b[0;32m      3\u001b[0m \u001b[1;33m\u001b[0m\u001b[0m\n\u001b[1;32m----> 4\u001b[1;33m \u001b[0ma\u001b[0m \u001b[1;33m*\u001b[0m \u001b[0mb\u001b[0m\u001b[1;33m\u001b[0m\u001b[1;33m\u001b[0m\u001b[0m\n\u001b[0m",
      "\u001b[1;31mTypeError\u001b[0m: can't multiply sequence by non-int of type 'list'"
     ]
    }
   ],
   "source": [
    "a = [[2, 3], [1, 4]]\n",
    "b = [[4, 5], [12, 7]]\n",
    "\n",
    "a * b"
   ]
  },
  {
   "cell_type": "markdown",
   "metadata": {},
   "source": [
    "Since python does not support matrix multiplication by default, we need to write a function to do it or overload the multiplication '*' operator."
   ]
  },
  {
   "cell_type": "code",
   "execution_count": null,
   "metadata": {},
   "outputs": [],
   "source": [
    "def matmult(a, b):\n",
    "    m, n, p, q = len(a), len(a[0]), len(b), len(b[0])\n",
    "    \n",
    "    assert n == p, 'Dimension mismatched, cannot multiply'\n",
    "    result = [[0] * q for i in range(m)]\n",
    "    \n",
    "    for i in range(m):\n",
    "   # iterate through columns of Y\n",
    "       for j in range(q):\n",
    "       # iterate through rows of Y\n",
    "           for k in range(p):\n",
    "               result[i][j] += a[i][k] * b[k][j]\n",
    "                \n",
    "    return result"
   ]
  },
  {
   "cell_type": "code",
   "execution_count": null,
   "metadata": {},
   "outputs": [],
   "source": [
    "matmult(a, b) "
   ]
  },
  {
   "cell_type": "markdown",
   "metadata": {},
   "source": [
    "So, you can see it takes a bit of code to do a simple matrix multiplication. And this multiplication is not optimized, the time will increase significantly with the size of the matrix. That's why we are going to use numpy. In numpy all of linear algebra operations are optimized and you don't need worry about the algorithm behind the curtain."
   ]
  },
  {
   "cell_type": "markdown",
   "metadata": {},
   "source": [
    "### Basic Usage"
   ]
  },
  {
   "cell_type": "markdown",
   "metadata": {},
   "source": [
    "So let's get started on using numpy. To use numpy, you have to import the numpy library first. In python, you import a library using the __import__ statement."
   ]
  },
  {
   "cell_type": "code",
   "execution_count": 3,
   "metadata": {},
   "outputs": [],
   "source": [
    "import numpy as np \n",
    "\n",
    "## np is an abbreviation of the numpy library, \n",
    "## we use abbreviation to be less verbose in our code."
   ]
  },
  {
   "cell_type": "markdown",
   "metadata": {},
   "source": [
    "First lets declare some matrices."
   ]
  },
  {
   "cell_type": "code",
   "execution_count": null,
   "metadata": {},
   "outputs": [],
   "source": [
    "mat1 = np.array([[12, 34], [45, 11]])\n",
    "mat2 = np.array([[1, 4], [4, 2]])"
   ]
  },
  {
   "cell_type": "code",
   "execution_count": null,
   "metadata": {},
   "outputs": [],
   "source": [
    "mat1.nbytes"
   ]
  },
  {
   "cell_type": "markdown",
   "metadata": {},
   "source": [
    "Now we can do matrix multiplication without having to write any functions."
   ]
  },
  {
   "cell_type": "code",
   "execution_count": null,
   "metadata": {},
   "outputs": [],
   "source": [
    "mat1 * mat2"
   ]
  },
  {
   "cell_type": "markdown",
   "metadata": {},
   "source": [
    "Similarly, we can declare vectors."
   ]
  },
  {
   "cell_type": "code",
   "execution_count": null,
   "metadata": {},
   "outputs": [],
   "source": [
    "vec1 = np.array([1,3,4,5])\n",
    "vec2 = np.array([2,3,1,2])"
   ]
  },
  {
   "cell_type": "markdown",
   "metadata": {},
   "source": [
    "Numpy give us methods to do inner and outer products."
   ]
  },
  {
   "cell_type": "code",
   "execution_count": null,
   "metadata": {},
   "outputs": [],
   "source": [
    "np.inner(vec1, vec2), np.outer(vec1, vec2)"
   ]
  },
  {
   "cell_type": "markdown",
   "metadata": {},
   "source": [
    "In numpy, you can check dimensions of your matrix, vector or tensor using the shape attribute."
   ]
  },
  {
   "cell_type": "code",
   "execution_count": null,
   "metadata": {},
   "outputs": [],
   "source": [
    "mat1.shape, vec1.shape,"
   ]
  },
  {
   "cell_type": "markdown",
   "metadata": {},
   "source": [
    "### Data types of numpy\n",
    "\n",
    "NumPy supports a much greater variety of numerical types than Python does. The primitive types supported are tied closely to those in C:\n",
    "<table class=\"table\">\n",
    "<colgroup>\n",
    "<col style=\"width: 33%\">\n",
    "<col style=\"width: 33%\">\n",
    "<col style=\"width: 33%\">\n",
    "</colgroup>\n",
    "<thead>\n",
    "<tr class=\"row-odd\"><th class=\"head\"><p>Numpy type</p></th>\n",
    "<th class=\"head\"><p>C type</p></th>\n",
    "<th class=\"head\"><p>Description</p></th>\n",
    "</tr>\n",
    "</thead>\n",
    "<tbody>\n",
    "<tr class=\"row-even\"><td><p><a class=\"reference internal\" href=\"../reference/arrays.scalars.html#numpy.bool_\" title=\"numpy.bool_\"><code class=\"xref py py-obj docutils literal notranslate\"><span class=\"pre\">numpy.bool_</span></code></a></p></td>\n",
    "<td><p><code class=\"docutils literal notranslate\"><span class=\"pre\">bool</span></code></p></td>\n",
    "<td><p>Boolean (True or False) stored as a byte</p></td>\n",
    "</tr>\n",
    "<tr class=\"row-odd\"><td><p><a class=\"reference internal\" href=\"../reference/arrays.scalars.html#numpy.byte\" title=\"numpy.byte\"><code class=\"xref py py-obj docutils literal notranslate\"><span class=\"pre\">numpy.byte</span></code></a></p></td>\n",
    "<td><p><code class=\"docutils literal notranslate\"><span class=\"pre\">signed</span> <span class=\"pre\">char</span></code></p></td>\n",
    "<td><p>Platform-defined</p></td>\n",
    "</tr>\n",
    "<tr class=\"row-even\"><td><p><a class=\"reference internal\" href=\"../reference/arrays.scalars.html#numpy.ubyte\" title=\"numpy.ubyte\"><code class=\"xref py py-obj docutils literal notranslate\"><span class=\"pre\">numpy.ubyte</span></code></a></p></td>\n",
    "<td><p><code class=\"docutils literal notranslate\"><span class=\"pre\">unsigned</span> <span class=\"pre\">char</span></code></p></td>\n",
    "<td><p>Platform-defined</p></td>\n",
    "</tr>\n",
    "<tr class=\"row-odd\"><td><p><a class=\"reference internal\" href=\"../reference/arrays.scalars.html#numpy.short\" title=\"numpy.short\"><code class=\"xref py py-obj docutils literal notranslate\"><span class=\"pre\">numpy.short</span></code></a></p></td>\n",
    "<td><p><code class=\"docutils literal notranslate\"><span class=\"pre\">short</span></code></p></td>\n",
    "<td><p>Platform-defined</p></td>\n",
    "</tr>\n",
    "<tr class=\"row-even\"><td><p><a class=\"reference internal\" href=\"../reference/arrays.scalars.html#numpy.ushort\" title=\"numpy.ushort\"><code class=\"xref py py-obj docutils literal notranslate\"><span class=\"pre\">numpy.ushort</span></code></a></p></td>\n",
    "<td><p><code class=\"docutils literal notranslate\"><span class=\"pre\">unsigned</span> <span class=\"pre\">short</span></code></p></td>\n",
    "<td><p>Platform-defined</p></td>\n",
    "</tr>\n",
    "<tr class=\"row-odd\"><td><p><a class=\"reference internal\" href=\"../reference/arrays.scalars.html#numpy.intc\" title=\"numpy.intc\"><code class=\"xref py py-obj docutils literal notranslate\"><span class=\"pre\">numpy.intc</span></code></a></p></td>\n",
    "<td><p><code class=\"docutils literal notranslate\"><span class=\"pre\">int</span></code></p></td>\n",
    "<td><p>Platform-defined</p></td>\n",
    "</tr>\n",
    "<tr class=\"row-even\"><td><p><a class=\"reference internal\" href=\"../reference/arrays.scalars.html#numpy.uintc\" title=\"numpy.uintc\"><code class=\"xref py py-obj docutils literal notranslate\"><span class=\"pre\">numpy.uintc</span></code></a></p></td>\n",
    "<td><p><code class=\"docutils literal notranslate\"><span class=\"pre\">unsigned</span> <span class=\"pre\">int</span></code></p></td>\n",
    "<td><p>Platform-defined</p></td>\n",
    "</tr>\n",
    "<tr class=\"row-odd\"><td><p><a class=\"reference internal\" href=\"../reference/arrays.scalars.html#numpy.int_\" title=\"numpy.int_\"><code class=\"xref py py-obj docutils literal notranslate\"><span class=\"pre\">numpy.int_</span></code></a></p></td>\n",
    "<td><p><code class=\"docutils literal notranslate\"><span class=\"pre\">long</span></code></p></td>\n",
    "<td><p>Platform-defined</p></td>\n",
    "</tr>\n",
    "<tr class=\"row-even\"><td><p><a class=\"reference internal\" href=\"../reference/arrays.scalars.html#numpy.uint\" title=\"numpy.uint\"><code class=\"xref py py-obj docutils literal notranslate\"><span class=\"pre\">numpy.uint</span></code></a></p></td>\n",
    "<td><p><code class=\"docutils literal notranslate\"><span class=\"pre\">unsigned</span> <span class=\"pre\">long</span></code></p></td>\n",
    "<td><p>Platform-defined</p></td>\n",
    "</tr>\n",
    "<tr class=\"row-odd\"><td><p><a class=\"reference internal\" href=\"../reference/arrays.scalars.html#numpy.longlong\" title=\"numpy.longlong\"><code class=\"xref py py-obj docutils literal notranslate\"><span class=\"pre\">numpy.longlong</span></code></a></p></td>\n",
    "<td><p><code class=\"docutils literal notranslate\"><span class=\"pre\">long</span> <span class=\"pre\">long</span></code></p></td>\n",
    "<td><p>Platform-defined</p></td>\n",
    "</tr>\n",
    "<tr class=\"row-even\"><td><p><a class=\"reference internal\" href=\"../reference/arrays.scalars.html#numpy.ulonglong\" title=\"numpy.ulonglong\"><code class=\"xref py py-obj docutils literal notranslate\"><span class=\"pre\">numpy.ulonglong</span></code></a></p></td>\n",
    "<td><p><code class=\"docutils literal notranslate\"><span class=\"pre\">unsigned</span> <span class=\"pre\">long</span> <span class=\"pre\">long</span></code></p></td>\n",
    "<td><p>Platform-defined</p></td>\n",
    "</tr>\n",
    "<tr class=\"row-odd\"><td><p><a class=\"reference internal\" href=\"../reference/arrays.scalars.html#numpy.half\" title=\"numpy.half\"><code class=\"xref py py-obj docutils literal notranslate\"><span class=\"pre\">numpy.half</span></code></a> / <a class=\"reference internal\" href=\"../reference/arrays.scalars.html#numpy.float16\" title=\"numpy.float16\"><code class=\"xref py py-obj docutils literal notranslate\"><span class=\"pre\">numpy.float16</span></code></a></p></td>\n",
    "<td></td>\n",
    "<td><p>Half precision float:\n",
    "sign bit, 5 bits exponent, 10 bits mantissa</p></td>\n",
    "</tr>\n",
    "<tr class=\"row-even\"><td><p><a class=\"reference internal\" href=\"../reference/arrays.scalars.html#numpy.single\" title=\"numpy.single\"><code class=\"xref py py-obj docutils literal notranslate\"><span class=\"pre\">numpy.single</span></code></a></p></td>\n",
    "<td><p><code class=\"docutils literal notranslate\"><span class=\"pre\">float</span></code></p></td>\n",
    "<td><p>Platform-defined single precision float:\n",
    "typically sign bit, 8 bits exponent, 23 bits mantissa</p></td>\n",
    "</tr>\n",
    "<tr class=\"row-odd\"><td><p><a class=\"reference internal\" href=\"../reference/arrays.scalars.html#numpy.double\" title=\"numpy.double\"><code class=\"xref py py-obj docutils literal notranslate\"><span class=\"pre\">numpy.double</span></code></a></p></td>\n",
    "<td><p><code class=\"docutils literal notranslate\"><span class=\"pre\">double</span></code></p></td>\n",
    "<td><p>Platform-defined double precision float:\n",
    "typically sign bit, 11 bits exponent, 52 bits mantissa.</p></td>\n",
    "</tr>\n",
    "<tr class=\"row-even\"><td><p><a class=\"reference internal\" href=\"../reference/arrays.scalars.html#numpy.longdouble\" title=\"numpy.longdouble\"><code class=\"xref py py-obj docutils literal notranslate\"><span class=\"pre\">numpy.longdouble</span></code></a></p></td>\n",
    "<td><p><code class=\"docutils literal notranslate\"><span class=\"pre\">long</span> <span class=\"pre\">double</span></code></p></td>\n",
    "<td><p>Platform-defined extended-precision float</p></td>\n",
    "</tr>\n",
    "<tr class=\"row-odd\"><td><p><a class=\"reference internal\" href=\"../reference/arrays.scalars.html#numpy.csingle\" title=\"numpy.csingle\"><code class=\"xref py py-obj docutils literal notranslate\"><span class=\"pre\">numpy.csingle</span></code></a></p></td>\n",
    "<td><p><code class=\"docutils literal notranslate\"><span class=\"pre\">float</span> <span class=\"pre\">complex</span></code></p></td>\n",
    "<td><p>Complex number, represented by two single-precision floats (real and imaginary components)</p></td>\n",
    "</tr>\n",
    "<tr class=\"row-even\"><td><p><a class=\"reference internal\" href=\"../reference/arrays.scalars.html#numpy.cdouble\" title=\"numpy.cdouble\"><code class=\"xref py py-obj docutils literal notranslate\"><span class=\"pre\">numpy.cdouble</span></code></a></p></td>\n",
    "<td><p><code class=\"docutils literal notranslate\"><span class=\"pre\">double</span> <span class=\"pre\">complex</span></code></p></td>\n",
    "<td><p>Complex number, represented by two double-precision floats (real and imaginary components).</p></td>\n",
    "</tr>\n",
    "<tr class=\"row-odd\"><td><p><a class=\"reference internal\" href=\"../reference/arrays.scalars.html#numpy.clongdouble\" title=\"numpy.clongdouble\"><code class=\"xref py py-obj docutils literal notranslate\"><span class=\"pre\">numpy.clongdouble</span></code></a></p></td>\n",
    "<td><p><code class=\"docutils literal notranslate\"><span class=\"pre\">long</span> <span class=\"pre\">double</span> <span class=\"pre\">complex</span></code></p></td>\n",
    "<td><p>Complex number, represented by two extended-precision floats (real and imaginary components).</p></td>\n",
    "</tr>\n",
    "</tbody>\n",
    "</table>\n",
    "\n",
    "Since many of these have platform-dependent definitions, a set of fixed-size aliases are provided.\n",
    "\n",
    "NumPy numerical types are instances of dtype (data-type) objects, each having unique characteristics. the dtypes are available as np.bool_, np.float32, etc.\n",
    "\n",
    "There are 5 basic numerical types representing booleans (bool), integers (int), unsigned integers (uint) floating point (float) and complex. Those with numbers in their name indicate the bitsize of the type (i.e. how many bits are needed to represent a single value in memory). Some types, such as int and intp, have differing bitsizes, dependent on the platforms (e.g. 32-bit vs. 64-bit machines). "
   ]
  },
  {
   "cell_type": "code",
   "execution_count": null,
   "metadata": {},
   "outputs": [],
   "source": [
    "x = np.float32(1.0)\n",
    "y = np.int_([1,2,4])\n",
    "z = np.arange(3, dtype=np.uint8)\n",
    "\n",
    "x, y, z"
   ]
  },
  {
   "cell_type": "markdown",
   "metadata": {},
   "source": [
    "### Indexing and slicing"
   ]
  },
  {
   "cell_type": "markdown",
   "metadata": {},
   "source": [
    "Array indexing refers to any use of the square brackets ([]) to index array values. There are many options to indexing, which give NumPy indexing great power, but with power comes some complexity and the potential for confusion. \n",
    "\n",
    "Single element indexing for a 1-D array is what one expects. It work exactly like that for other standard Python sequences. It is 0-based, and accepts negative indices for indexing from the end of the array.\n",
    "\n",
    "Unlike lists and tuples, NumPy arrays support multidimensional indexing for multidimensional arrays. That means that it is not necessary to separate each dimension’s index into its own set of square brackets."
   ]
  },
  {
   "cell_type": "code",
   "execution_count": null,
   "metadata": {},
   "outputs": [],
   "source": [
    "x = np.array([[2,0,2], [9,1,4], [3,4,10]])\n",
    "x[0,2]"
   ]
  },
  {
   "cell_type": "markdown",
   "metadata": {},
   "source": [
    "It is possible to slice and stride arrays to extract arrays of the same number of dimensions, but of different sizes than the original. The slicing and striding works exactly the same way it does for lists and tuples except that they can be applied to multiple dimensions as well. A few examples illustrates best:"
   ]
  },
  {
   "cell_type": "code",
   "execution_count": null,
   "metadata": {},
   "outputs": [],
   "source": [
    "x[0, 0:2], x[0:3, 2]"
   ]
  },
  {
   "cell_type": "markdown",
   "metadata": {},
   "source": [
    "### Boolean or “mask” index arrays\n",
    "\n",
    "Boolean arrays used as indices are treated in a different manner entirely than index arrays. Boolean arrays must be of the same shape as the initial dimensions of the array being indexed. Unlike in the case of integer index arrays, in the boolean case, the result is a 1-D array containing all the elements in the indexed array corresponding to all the true elements in the boolean array. The elements in the indexed array are always iterated and returned in row-major (C-style) order. The result is also identical to y[np.nonzero(b)]. As with index arrays, what is returned is a copy of the data, not a view as one gets with slices."
   ]
  },
  {
   "cell_type": "code",
   "execution_count": null,
   "metadata": {},
   "outputs": [],
   "source": [
    "y = np.arange(0, 100, 3)\n",
    "b = y < 13\n",
    "\n",
    "b, y[b]"
   ]
  },
  {
   "cell_type": "markdown",
   "metadata": {},
   "source": [
    "### Transpose & Reshaping\n",
    "\n",
    "You can transpose a matrix in numpy using the transpose method."
   ]
  },
  {
   "cell_type": "code",
   "execution_count": null,
   "metadata": {},
   "outputs": [],
   "source": [
    "print(x)\n",
    "print(x.T)\n",
    "print(np.transpose(x))"
   ]
  },
  {
   "cell_type": "markdown",
   "metadata": {},
   "source": [
    "To reshape a matrix or tensor use the reshape method. For example, if you want reshape to a 3D tensor to a 2D matrix:"
   ]
  },
  {
   "cell_type": "code",
   "execution_count": null,
   "metadata": {},
   "outputs": [],
   "source": [
    "a = np.zeros((2, 3, 4))\n",
    "b = a.reshape((-1, 4))\n",
    "a.shape, b.shape"
   ]
  },
  {
   "cell_type": "markdown",
   "metadata": {},
   "source": [
    "'-1' here indicates you want to collapse the first two dimensions of the 3D tensor to a row in the 2D matrix."
   ]
  },
  {
   "cell_type": "markdown",
   "metadata": {},
   "source": [
    "### Random number generation and sampling"
   ]
  },
  {
   "cell_type": "markdown",
   "metadata": {},
   "source": [
    "Numpy has a strong interface for random number generation and sampling. It allows you to sample numbers from almost all types of distribution. Let say, you want to sample from a normal distribution."
   ]
  },
  {
   "cell_type": "code",
   "execution_count": 18,
   "metadata": {},
   "outputs": [
    {
     "name": "stderr",
     "output_type": "stream",
     "text": [
      "C:\\Users\\KMR\\anaconda3\\lib\\site-packages\\seaborn\\distributions.py:2557: FutureWarning: `distplot` is a deprecated function and will be removed in a future version. Please adapt your code to use either `displot` (a figure-level function with similar flexibility) or `histplot` (an axes-level function for histograms).\n",
      "  warnings.warn(msg, FutureWarning)\n"
     ]
    },
    {
     "data": {
      "image/png": "[encoded data removed]",
      "text/plain": [
       "<Figure size 432x288 with 1 Axes>"
      ]
     },
     "metadata": {
      "needs_background": "light"
     },
     "output_type": "display_data"
    }
   ],
   "source": [
    "import seaborn as sns\n",
    "import matplotlib.pyplot as plt\n",
    "\n",
    "d = np.random.randn(1000)\n",
    "\n",
    "sns.distplot(d)\n",
    "\n",
    "plt.xlabel('d')\n",
    "plt.ylabel('density')\n",
    "plt.show()\n",
    "\n",
    "# plt.plot(d)"
   ]
  },
  {
   "cell_type": "markdown",
   "metadata": {},
   "source": [
    "Now lets sample from a uniform distribution"
   ]
  },
  {
   "cell_type": "code",
   "execution_count": 19,
   "metadata": {},
   "outputs": [
    {
     "name": "stderr",
     "output_type": "stream",
     "text": [
      "C:\\Users\\KMR\\anaconda3\\lib\\site-packages\\seaborn\\distributions.py:2557: FutureWarning: `distplot` is a deprecated function and will be removed in a future version. Please adapt your code to use either `displot` (a figure-level function with similar flexibility) or `histplot` (an axes-level function for histograms).\n",
      "  warnings.warn(msg, FutureWarning)\n"
     ]
    },
    {
     "data": {
      "image/png": "[encoded data removed]",
      "text/plain": [
       "<Figure size 432x288 with 1 Axes>"
      ]
     },
     "metadata": {
      "needs_background": "light"
     },
     "output_type": "display_data"
    }
   ],
   "source": [
    "u = np.random.uniform(size=10000)\n",
    "\n",
    "sns.distplot(u)\n",
    "\n",
    "plt.xlabel('u')\n",
    "plt.ylabel('density')\n",
    "plt.show()"
   ]
  },
  {
   "cell_type": "markdown",
   "metadata": {},
   "source": [
    "Numpy’s random number routines produce pseudo random numbers using combinations of a BitGenerator to create sequences and a Generator to use those sequences to sample from different statistical distributions:\n",
    "\n",
    "<strong>BitGenerators:</strong> Objects that generate random numbers. These are typically unsigned integer words filled with sequences of either 32 or 64 random bits.\n",
    "\n",
    "<strong>Generators:</strong> Objects that transform sequences of random bits from a BitGenerator into sequences of numbers that follow a specific probability distribution (such as uniform, Normal or Binomial) within a specified interval."
   ]
  },
  {
   "cell_type": "markdown",
   "metadata": {},
   "source": [
    "### Linear Algebra\n",
    "\n",
    "The NumPy linear algebra functions rely on BLAS and LAPACK to provide efficient low level implementations of standard linear algebra algorithms. If you want to do some basic linear algebra operation (inner/outer product, matrix multiplication, etc), the routines below are the ones you need:"
   ]
  },
  {
   "cell_type": "markdown",
   "metadata": {},
   "source": [
    "<div class=\"section\" id=\"matrix-and-vector-products\">\n",
    "<h2>Matrix and vector products<a class=\"headerlink\" href=\"#matrix-and-vector-products\" title=\"Permalink to this headline\">¶</a></h2>\n",
    "<table class=\"longtable table autosummary\">\n",
    "<colgroup>\n",
    "<col style=\"width: 30%\">\n",
    "<col style=\"width: 70%\">\n",
    "</colgroup>\n",
    "<tbody>\n",
    "<tr class=\"row-odd\"><td><p><a class=\"reference internal\" href=\"generated/numpy.dot.html#numpy.dot\" title=\"numpy.dot\"><code class=\"xref py py-obj docutils literal notranslate\"><span class=\"pre\">dot</span></code></a>(a,&nbsp;b[,&nbsp;out])</p></td>\n",
    "<td><p>Dot product of two arrays.</p></td>\n",
    "</tr>\n",
    "<tr class=\"row-even\"><td><p><a class=\"reference internal\" href=\"generated/numpy.linalg.multi_dot.html#numpy.linalg.multi_dot\" title=\"numpy.linalg.multi_dot\"><code class=\"xref py py-obj docutils literal notranslate\"><span class=\"pre\">linalg.multi_dot</span></code></a>(arrays,&nbsp;*[,&nbsp;out])</p></td>\n",
    "<td><p>Compute the dot product of two or more arrays in a single function call, while automatically selecting the fastest evaluation order.</p></td>\n",
    "</tr>\n",
    "<tr class=\"row-odd\"><td><p><a class=\"reference internal\" href=\"generated/numpy.vdot.html#numpy.vdot\" title=\"numpy.vdot\"><code class=\"xref py py-obj docutils literal notranslate\"><span class=\"pre\">vdot</span></code></a>(a,&nbsp;b)</p></td>\n",
    "<td><p>Return the dot product of two vectors.</p></td>\n",
    "</tr>\n",
    "<tr class=\"row-even\"><td><p><a class=\"reference internal\" href=\"generated/numpy.inner.html#numpy.inner\" title=\"numpy.inner\"><code class=\"xref py py-obj docutils literal notranslate\"><span class=\"pre\">inner</span></code></a>(a,&nbsp;b)</p></td>\n",
    "<td><p>Inner product of two arrays.</p></td>\n",
    "</tr>\n",
    "<tr class=\"row-odd\"><td><p><a class=\"reference internal\" href=\"generated/numpy.outer.html#numpy.outer\" title=\"numpy.outer\"><code class=\"xref py py-obj docutils literal notranslate\"><span class=\"pre\">outer</span></code></a>(a,&nbsp;b[,&nbsp;out])</p></td>\n",
    "<td><p>Compute the outer product of two vectors.</p></td>\n",
    "</tr>\n",
    "<tr class=\"row-even\"><td><p><a class=\"reference internal\" href=\"generated/numpy.matmul.html#numpy.matmul\" title=\"numpy.matmul\"><code class=\"xref py py-obj docutils literal notranslate\"><span class=\"pre\">matmul</span></code></a>(x1,&nbsp;x2,&nbsp;/[,&nbsp;out,&nbsp;casting,&nbsp;order,&nbsp;…])</p></td>\n",
    "<td><p>Matrix product of two arrays.</p></td>\n",
    "</tr>\n",
    "<tr class=\"row-odd\"><td><p><a class=\"reference internal\" href=\"generated/numpy.tensordot.html#numpy.tensordot\" title=\"numpy.tensordot\"><code class=\"xref py py-obj docutils literal notranslate\"><span class=\"pre\">tensordot</span></code></a>(a,&nbsp;b[,&nbsp;axes])</p></td>\n",
    "<td><p>Compute tensor dot product along specified axes.</p></td>\n",
    "</tr>\n",
    "<tr class=\"row-even\"><td><p><a class=\"reference internal\" href=\"generated/numpy.einsum.html#numpy.einsum\" title=\"numpy.einsum\"><code class=\"xref py py-obj docutils literal notranslate\"><span class=\"pre\">einsum</span></code></a>(subscripts,&nbsp;*operands[,&nbsp;out,&nbsp;dtype,&nbsp;…])</p></td>\n",
    "<td><p>Evaluates the Einstein summation convention on the operands.</p></td>\n",
    "</tr>\n",
    "<tr class=\"row-odd\"><td><p><a class=\"reference internal\" href=\"generated/numpy.einsum_path.html#numpy.einsum_path\" title=\"numpy.einsum_path\"><code class=\"xref py py-obj docutils literal notranslate\"><span class=\"pre\">einsum_path</span></code></a>(subscripts,&nbsp;*operands[,&nbsp;optimize])</p></td>\n",
    "<td><p>Evaluates the lowest cost contraction order for an einsum expression by considering the creation of intermediate arrays.</p></td>\n",
    "</tr>\n",
    "<tr class=\"row-even\"><td><p><a class=\"reference internal\" href=\"generated/numpy.linalg.matrix_power.html#numpy.linalg.matrix_power\" title=\"numpy.linalg.matrix_power\"><code class=\"xref py py-obj docutils literal notranslate\"><span class=\"pre\">linalg.matrix_power</span></code></a>(a,&nbsp;n)</p></td>\n",
    "<td><p>Raise a square matrix to the (integer) power <em class=\"xref py py-obj\">n</em>.</p></td>\n",
    "</tr>\n",
    "<tr class=\"row-odd\"><td><p><a class=\"reference internal\" href=\"generated/numpy.kron.html#numpy.kron\" title=\"numpy.kron\"><code class=\"xref py py-obj docutils literal notranslate\"><span class=\"pre\">kron</span></code></a>(a,&nbsp;b)</p></td>\n",
    "<td><p>Kronecker product of two arrays.</p></td>\n",
    "</tr>\n",
    "</tbody>\n",
    "</table>\n",
    "</div>"
   ]
  },
  {
   "cell_type": "code",
   "execution_count": null,
   "metadata": {},
   "outputs": [],
   "source": [
    "x = np.random.rand(7,6)\n",
    "y = np.random.rand(6,7)\n",
    "\n",
    "np.dot(x,y).shape"
   ]
  },
  {
   "cell_type": "code",
   "execution_count": null,
   "metadata": {},
   "outputs": [],
   "source": [
    "x = np.random.rand(10,7)\n",
    "\n",
    "print(np.inner(x, x).shape, np.matmul(x.T, x).shape, np.outer(x, x).shape, np.matmul(x, x.T).shape)\n",
    "\n",
    "y = np.random.rand(90, 7)\n",
    "\n",
    "print(np.inner(x, y).shape)"
   ]
  },
  {
   "cell_type": "markdown",
   "metadata": {},
   "source": [
    "<div class=\"section\" id=\"decompositions\">\n",
    "<h2>Decompositions<a class=\"headerlink\" href=\"#decompositions\" title=\"Permalink to this headline\">¶</a></h2>\n",
    "<table class=\"longtable table autosummary\">\n",
    "<tbody>\n",
    "<tr class=\"row-odd\"><td><p><a class=\"reference internal\" href=\"generated/numpy.linalg.cholesky.html#numpy.linalg.cholesky\" title=\"numpy.linalg.cholesky\"><code class=\"xref py py-obj docutils literal notranslate\"><span class=\"pre\">linalg.cholesky</span></code></a>(a)</p></td>\n",
    "<td><p>Cholesky decomposition.</p></td>\n",
    "</tr>\n",
    "<tr class=\"row-even\"><td><p><a class=\"reference internal\" href=\"generated/numpy.linalg.qr.html#numpy.linalg.qr\" title=\"numpy.linalg.qr\"><code class=\"xref py py-obj docutils literal notranslate\"><span class=\"pre\">linalg.qr</span></code></a>(a[,&nbsp;mode])</p></td>\n",
    "<td><p>Compute the qr factorization of a matrix.</p></td>\n",
    "</tr>\n",
    "<tr class=\"row-odd\"><td><p><a class=\"reference internal\" href=\"generated/numpy.linalg.svd.html#numpy.linalg.svd\" title=\"numpy.linalg.svd\"><code class=\"xref py py-obj docutils literal notranslate\"><span class=\"pre\">linalg.svd</span></code></a>(a[,&nbsp;full_matrices,&nbsp;compute_uv,&nbsp;…])</p></td>\n",
    "<td><p>Singular Value Decomposition.</p></td>\n",
    "</tr>\n",
    "</tbody>\n",
    "</table>\n",
    "</div>"
   ]
  },
  {
   "cell_type": "code",
   "execution_count": 4,
   "metadata": {},
   "outputs": [
    {
     "data": {
      "text/plain": [
       "<AxesSubplot:>"
      ]
     },
     "execution_count": 4,
     "metadata": {},
     "output_type": "execute_result"
    },
    {
     "data": {
      "image/png": "[encoded data removed]",
      "text/plain": [
       "<Figure size 432x288 with 1 Axes>"
      ]
     },
     "metadata": {
      "needs_background": "light"
     },
     "output_type": "display_data"
    }
   ],
   "source": [
    "x = np.random.multivariate_normal([0,0], [[2,0], [0,4]], size=(10000,))\n",
    "\n",
    "import seaborn as sns\n",
    "\n",
    "sns.kdeplot(x=x[:,0], y=x[:,1], fill=True)"
   ]
  },
  {
   "cell_type": "code",
   "execution_count": 16,
   "metadata": {},
   "outputs": [
    {
     "data": {
      "text/plain": [
       "[<matplotlib.lines.Line2D at 0x1a67409dca0>]"
      ]
     },
     "execution_count": 16,
     "metadata": {},
     "output_type": "execute_result"
    },
    {
     "data": {
      "image/png": "[encoded data removed]",
      "text/plain": [
       "<Figure size 432x288 with 1 Axes>"
      ]
     },
     "metadata": {
      "needs_background": "light"
     },
     "output_type": "display_data"
    }
   ],
   "source": [
    "import matplotlib.pyplot as plt\n",
    "\n",
    "U,C,V = np.linalg.svd(x.T)\n",
    "\n",
    "xT = x.T\n",
    "\n",
    "x_proj = np.matmul(U.T, xT)\n",
    "\n",
    "x_proj.shape\n",
    "proj1 = x_proj[0,:].reshape((-1, 1))\n",
    "proj2 = x_proj[1,:].reshape((-1,1))\n",
    "\n",
    "\n",
    "recon_1 = np.dot(proj1, U[0, :][np.newaxis, ...])\n",
    "recon_2 = np.dot(proj2, U[1, :][np.newaxis, ...])\n",
    "recon_1.shape\n",
    "\n",
    "plt.figure()\n",
    "plt.scatter(x[:,0], x[:,1])\n",
    "\n",
    "plt.plot(recon_1[:,0], recon_1[:,1], c='r', label='1st eigenvector direction')\n",
    "plt.plot(recon_2[:,0], recon_2[:,1], c='g', label='2nd eigenvector direction')"
   ]
  },
  {
   "cell_type": "code",
   "execution_count": 7,
   "metadata": {},
   "outputs": [
    {
     "data": {
      "text/plain": [
       "(10000, 10000)"
      ]
     },
     "execution_count": 7,
     "metadata": {},
     "output_type": "execute_result"
    }
   ],
   "source": [
    "U.shape"
   ]
  },
  {
   "cell_type": "markdown",
   "metadata": {},
   "source": [
    "<div class=\"section\" id=\"norms-and-other-numbers\">\n",
    "<h2>Norms and other numbers<a class=\"headerlink\" href=\"#norms-and-other-numbers\" title=\"Permalink to this headline\">¶</a></h2>\n",
    "<table class=\"longtable table autosummary\">\n",
    "<tbody>\n",
    "<tr class=\"row-odd\"><td><p><a class=\"reference internal\" href=\"generated/numpy.linalg.norm.html#numpy.linalg.norm\" title=\"numpy.linalg.norm\"><code class=\"xref py py-obj docutils literal notranslate\"><span class=\"pre\">linalg.norm</span></code></a>(x[,&nbsp;ord,&nbsp;axis,&nbsp;keepdims])</p></td>\n",
    "<td><p>Matrix or vector norm.</p></td>\n",
    "</tr>\n",
    "<tr class=\"row-even\"><td><p><a class=\"reference internal\" href=\"generated/numpy.linalg.cond.html#numpy.linalg.cond\" title=\"numpy.linalg.cond\"><code class=\"xref py py-obj docutils literal notranslate\"><span class=\"pre\">linalg.cond</span></code></a>(x[,&nbsp;p])</p></td>\n",
    "<td><p>Compute the condition number of a matrix.</p></td>\n",
    "</tr>\n",
    "<tr class=\"row-odd\"><td><p><a class=\"reference internal\" href=\"generated/numpy.linalg.det.html#numpy.linalg.det\" title=\"numpy.linalg.det\"><code class=\"xref py py-obj docutils literal notranslate\"><span class=\"pre\">linalg.det</span></code></a>(a)</p></td>\n",
    "<td><p>Compute the determinant of an array.</p></td>\n",
    "</tr>\n",
    "<tr class=\"row-even\"><td><p><a class=\"reference internal\" href=\"generated/numpy.linalg.matrix_rank.html#numpy.linalg.matrix_rank\" title=\"numpy.linalg.matrix_rank\"><code class=\"xref py py-obj docutils literal notranslate\"><span class=\"pre\">linalg.matrix_rank</span></code></a>(M[,&nbsp;tol,&nbsp;hermitian])</p></td>\n",
    "<td><p>Return matrix rank of array using SVD method</p></td>\n",
    "</tr>\n",
    "<tr class=\"row-odd\"><td><p><a class=\"reference internal\" href=\"generated/numpy.linalg.slogdet.html#numpy.linalg.slogdet\" title=\"numpy.linalg.slogdet\"><code class=\"xref py py-obj docutils literal notranslate\"><span class=\"pre\">linalg.slogdet</span></code></a>(a)</p></td>\n",
    "<td><p>Compute the sign and (natural) logarithm of the determinant of an array.</p></td>\n",
    "</tr>\n",
    "<tr class=\"row-even\"><td><p><a class=\"reference internal\" href=\"generated/numpy.trace.html#numpy.trace\" title=\"numpy.trace\"><code class=\"xref py py-obj docutils literal notranslate\"><span class=\"pre\">trace</span></code></a>(a[,&nbsp;offset,&nbsp;axis1,&nbsp;axis2,&nbsp;dtype,&nbsp;out])</p></td>\n",
    "<td><p>Return the sum along diagonals of the array.</p></td>\n",
    "</tr>\n",
    "</tbody>\n",
    "</table>\n",
    "</div>"
   ]
  },
  {
   "cell_type": "code",
   "execution_count": 20,
   "metadata": {},
   "outputs": [
    {
     "name": "stdout",
     "output_type": "stream",
     "text": [
      "Norm of vec: 70.0, Determinant of mat: 7.576490688668911e+224\n"
     ]
    }
   ],
   "source": [
    "vec = np.random.randint(100)\n",
    "mat = np.random.randint(0,100, size=(100,100))\n",
    "\n",
    "print('Norm of vec: {}, Determinant of mat: {}'.format(np.linalg.norm(vec), np.linalg.det(mat)))"
   ]
  },
  {
   "cell_type": "code",
   "execution_count": 21,
   "metadata": {},
   "outputs": [
    {
     "name": "stdout",
     "output_type": "stream",
     "text": [
      "Rank of mat: 100\n"
     ]
    }
   ],
   "source": [
    "print('Rank of mat: {}'.format(np.linalg.matrix_rank(mat)))"
   ]
  },
  {
   "cell_type": "markdown",
   "metadata": {},
   "source": [
    "#### Gaussian Distribution"
   ]
  },
  {
   "cell_type": "code",
   "execution_count": 17,
   "metadata": {},
   "outputs": [
    {
     "name": "stderr",
     "output_type": "stream",
     "text": [
      "C:\\Users\\KMR\\anaconda3\\lib\\site-packages\\seaborn\\distributions.py:2557: FutureWarning: `distplot` is a deprecated function and will be removed in a future version. Please adapt your code to use either `displot` (a figure-level function with similar flexibility) or `kdeplot` (an axes-level function for kernel density plots).\n",
      "  warnings.warn(msg, FutureWarning)\n"
     ]
    },
    {
     "data": {
      "text/plain": [
       "<matplotlib.collections.PolyCollection at 0x1a674172190>"
      ]
     },
     "execution_count": 17,
     "metadata": {},
     "output_type": "execute_result"
    },
    {
     "data": {
      "image/png": "[encoded data removed]",
      "text/plain": [
       "<Figure size 1080x432 with 1 Axes>"
      ]
     },
     "metadata": {
      "needs_background": "light"
     },
     "output_type": "display_data"
    }
   ],
   "source": [
    "import seaborn as sns\n",
    "import matplotlib.pyplot as plt\n",
    "\n",
    "mean = 100\n",
    "std = 25\n",
    "x = np.random.normal(loc=mean, scale=std, size=50000)\n",
    "\n",
    "\n",
    "plt.figure(figsize=(15, 6))\n",
    "lines = sns.distplot(x, hist=False).lines[0]\n",
    "\n",
    "x, y = lines.get_xdata(), lines.get_ydata()\n",
    "plt.xticks(\n",
    "    ticks = [mean - 3*std, mean - 2*std, mean - std, mean, mean+std, mean + 2*std, mean+3*std],\n",
    "    labels = ['{}\\u03C3'.format(i) for i in range(-3, 4, 1)]\n",
    ")\n",
    "\n",
    "\n",
    "plt.xlabel('x')\n",
    "\n",
    "plt.fill_between(x, y, where=(x < mean - 3*std) & (x > x.min()), color='#9FA8DA')\n",
    "\n",
    "plt.fill_between(x, y, where=(x < mean - 2*std) & (x > mean - 3*std), color='#3949AB')\n",
    "\n",
    "plt.fill_between(x, y, where=(x < mean - std) & (x > mean - 2*std), color='#283593')\n",
    "\n",
    "plt.fill_between(x, y, where=(x < mean) & (x > mean - std), color='#3D5AFE')\n",
    "\n",
    "plt.fill_between(x, y, where=(x > mean) & (x < mean + std), color='#3D5AFE')\n",
    "\n",
    "plt.fill_between(x, y, where=(x > mean + std) & (x < mean + 2*std), color='#283593')\n",
    "\n",
    "plt.fill_between(x, y, where=(x > mean + 2*std) & (x < mean + 3*std), color='#3949AB')\n",
    "\n",
    "\n",
    "\n"
   ]
  },
  {
   "cell_type": "code",
   "execution_count": null,
   "metadata": {},
   "outputs": [],
   "source": [
    "ax"
   ]
  },
  {
   "cell_type": "markdown",
   "metadata": {},
   "source": [
    "<h5>References:</h5>\n",
    "\n",
    "Numpy could do a lot more than what is illustrated here. But what we showed here is good enough for you to get started. You can learn lot more about numpy in:\n",
    "\n",
    "1.https://numpy.org/\n",
    "\n",
    "\n",
    "2.https://cs231n.github.io/python-numpy-tutorial/\n",
    "\n",
    "\n",
    "3.https://www.tutorialspoint.com/numpy/index.htm"
   ]
  }
 ],
 "metadata": {
  "kernelspec": {
   "display_name": "Python 3",
   "language": "python",
   "name": "python3"
  },
  "language_info": {
   "codemirror_mode": {
    "name": "ipython",
    "version": 3
   },
   "file_extension": ".py",
   "mimetype": "text/x-python",
   "name": "python",
   "nbconvert_exporter": "python",
   "pygments_lexer": "ipython3",
   "version": "3.8.8"
  }
 },
 "nbformat": 4,
 "nbformat_minor": 2
}
