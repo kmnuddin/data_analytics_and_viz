{
 "cells": [
  {
   "cell_type": "markdown",
   "metadata": {},
   "source": [
    "## NumPy Basics\n",
    "\n",
    "<em>\"<strong>NumPy</strong> is the fundamental package for scientific computing in Python. It is a Python library that provides a multidimensional array object, various derived objects (such as masked arrays and matrices), and an assortment of routines for fast operations on arrays, including mathematical, logical, shape manipulation, sorting, selecting, I/O, discrete Fourier transforms, basic linear algebra, basic statistical operations, random simulation and much more.\n",
    "\n",
    "At the core of the NumPy package, is the ndarray object. This encapsulates n-dimensional arrays of homogeneous data types, with many operations being performed in compiled code for performance. There are several important differences between NumPy arrays and the standard Python sequences:\n",
    "\n",
    "\n",
    "1. NumPy arrays have a fixed size at creation, unlike Python lists (which can grow dynamically). Changing the size of an ndarray will create a new array and delete the original.\n",
    "\n",
    "\n",
    "2. The elements in a NumPy array are all required to be of the same data type, and thus will be the same size in memory. The exception: one can have arrays of (Python, including NumPy) objects, thereby allowing for arrays of different sized elements.\n",
    "\n",
    "\n",
    "3. NumPy arrays facilitate advanced mathematical and other types of operations on large numbers of data. Typically, such operations are executed more efficiently and with less code than is possible using Python’s built-in sequences.\n",
    "\n",
    "\n",
    "4. A growing plethora of scientific and mathematical Python-based packages are using NumPy arrays; though these typically support Python-sequence input, they convert such input to NumPy arrays prior to processing, and they often output NumPy arrays. In other words, in order to efficiently use much (perhaps even most) of today’s scientific/mathematical Python-based software, just knowing how to use Python’s built-in sequence types is insufficient - one also needs to know how to use NumPy arrays.\"</em> Source: https://numpy.org/"
   ]
  },
  {
   "cell_type": "markdown",
   "metadata": {},
   "source": [
    "Lets get a more intuition on why we need numpy. Say, we want to do a matrix multiplication using the default 2d array in python."
   ]
  },
  {
   "cell_type": "code",
   "execution_count": 7,
   "metadata": {},
   "outputs": [
    {
     "ename": "TypeError",
     "evalue": "can't multiply sequence by non-int of type 'list'",
     "output_type": "error",
     "traceback": [
      "\u001b[0;31m---------------------------------------------------------------------------\u001b[0m",
      "\u001b[0;31mTypeError\u001b[0m                                 Traceback (most recent call last)",
      "\u001b[0;32m<ipython-input-7-3a0566b326d2>\u001b[0m in \u001b[0;36m<module>\u001b[0;34m\u001b[0m\n\u001b[1;32m      2\u001b[0m \u001b[0mb\u001b[0m \u001b[0;34m=\u001b[0m \u001b[0;34m[\u001b[0m\u001b[0;34m[\u001b[0m\u001b[0;36m4\u001b[0m\u001b[0;34m,\u001b[0m \u001b[0;36m5\u001b[0m\u001b[0;34m]\u001b[0m\u001b[0;34m,\u001b[0m \u001b[0;34m[\u001b[0m\u001b[0;36m12\u001b[0m\u001b[0;34m,\u001b[0m \u001b[0;36m7\u001b[0m\u001b[0;34m]\u001b[0m\u001b[0;34m]\u001b[0m\u001b[0;34m\u001b[0m\u001b[0;34m\u001b[0m\u001b[0m\n\u001b[1;32m      3\u001b[0m \u001b[0;34m\u001b[0m\u001b[0m\n\u001b[0;32m----> 4\u001b[0;31m \u001b[0ma\u001b[0m \u001b[0;34m*\u001b[0m \u001b[0mb\u001b[0m\u001b[0;34m\u001b[0m\u001b[0;34m\u001b[0m\u001b[0m\n\u001b[0m",
      "\u001b[0;31mTypeError\u001b[0m: can't multiply sequence by non-int of type 'list'"
     ]
    }
   ],
   "source": [
    "a = [[2, 3], [1, 4]]\n",
    "b = [[4, 5], [12, 7]]\n",
    "\n",
    "a * b"
   ]
  },
  {
   "cell_type": "markdown",
   "metadata": {},
   "source": [
    "Since python does not support matrix multiplication by default, we need to write a function to do it or overload the multiplication '*' operator."
   ]
  },
  {
   "cell_type": "code",
   "execution_count": 10,
   "metadata": {},
   "outputs": [],
   "source": [
    "def matmult(a, b):\n",
    "    m, n, p, q = len(a), len(a[0]), len(b), len(b[0])\n",
    "    \n",
    "    assert n == p, 'Dimension mismatched, cannot multiply'\n",
    "    result = [[0] * q for i in range(m)]\n",
    "    \n",
    "    for i in range(m):\n",
    "   # iterate through columns of Y\n",
    "       for j in range(q):\n",
    "       # iterate through rows of Y\n",
    "           for k in range(p):\n",
    "               result[i][j] += a[i][k] * b[k][j]\n",
    "                \n",
    "    return result"
   ]
  },
  {
   "cell_type": "code",
   "execution_count": 13,
   "metadata": {},
   "outputs": [
    {
     "data": {
      "text/plain": [
       "[[44, 31], [52, 33]]"
      ]
     },
     "execution_count": 13,
     "metadata": {},
     "output_type": "execute_result"
    }
   ],
   "source": [
    "matmult(a, b) "
   ]
  },
  {
   "cell_type": "markdown",
   "metadata": {},
   "source": [
    "So, you can see it takes a bit of code to do a simple matrix multiplication. And this multiplication is not optimized, the time will increase significantly with the size of the matrix. That's why we are going to use numpy. In numpy all of linear algebra operations are optimized and you don't need worry about the algorithm behind the curtain."
   ]
  },
  {
   "cell_type": "markdown",
   "metadata": {},
   "source": [
    "### Basic Usage"
   ]
  },
  {
   "cell_type": "markdown",
   "metadata": {},
   "source": [
    "So let's get started on using numpy. To use numpy, you have to import the numpy library first. In python, you import a library using the __import__ statement."
   ]
  },
  {
   "cell_type": "code",
   "execution_count": 15,
   "metadata": {},
   "outputs": [],
   "source": [
    "import numpy as np \n",
    "\n",
    "## np is an abbreviation of the numpy library, \n",
    "## we use abbreviation to be less verbose in our code."
   ]
  },
  {
   "cell_type": "markdown",
   "metadata": {},
   "source": [
    "First lets declare some matrices."
   ]
  },
  {
   "cell_type": "code",
   "execution_count": 16,
   "metadata": {},
   "outputs": [],
   "source": [
    "mat1 = np.array([[12, 34], [45, 11]])\n",
    "mat2 = np.array([[1, 4], [4, 2]])"
   ]
  },
  {
   "cell_type": "markdown",
   "metadata": {},
   "source": [
    "Now we can do matrix multiplication without having to write any functions."
   ]
  },
  {
   "cell_type": "code",
   "execution_count": 17,
   "metadata": {},
   "outputs": [
    {
     "data": {
      "text/plain": [
       "array([[ 12, 136],\n",
       "       [180,  22]])"
      ]
     },
     "execution_count": 17,
     "metadata": {},
     "output_type": "execute_result"
    }
   ],
   "source": [
    "mat1 * mat2"
   ]
  },
  {
   "cell_type": "markdown",
   "metadata": {},
   "source": [
    "Similarly, we can declare vectors."
   ]
  },
  {
   "cell_type": "code",
   "execution_count": 18,
   "metadata": {},
   "outputs": [],
   "source": [
    "vec1 = np.array([1,3,4,5])\n",
    "vec2 = np.array([2,3,1,2])"
   ]
  },
  {
   "cell_type": "markdown",
   "metadata": {},
   "source": [
    "Numpy give us methods to do inner and outer products."
   ]
  },
  {
   "cell_type": "code",
   "execution_count": 20,
   "metadata": {},
   "outputs": [
    {
     "data": {
      "text/plain": [
       "(25, array([[ 2,  3,  1,  2],\n",
       "        [ 6,  9,  3,  6],\n",
       "        [ 8, 12,  4,  8],\n",
       "        [10, 15,  5, 10]]))"
      ]
     },
     "execution_count": 20,
     "metadata": {},
     "output_type": "execute_result"
    }
   ],
   "source": [
    "np.inner(vec1, vec2), np.outer(vec1, vec2)"
   ]
  },
  {
   "cell_type": "markdown",
   "metadata": {},
   "source": [
    "In numpy, you can check dimensions of your matrix, vector or tensor using the shape attribute."
   ]
  },
  {
   "cell_type": "code",
   "execution_count": 21,
   "metadata": {},
   "outputs": [
    {
     "data": {
      "text/plain": [
       "((2, 2), (4,))"
      ]
     },
     "execution_count": 21,
     "metadata": {},
     "output_type": "execute_result"
    }
   ],
   "source": [
    "mat1.shape, vec1.shape"
   ]
  },
  {
   "cell_type": "markdown",
   "metadata": {},
   "source": [
    "### Data types of numpy\n",
    "\n",
    "NumPy supports a much greater variety of numerical types than Python does. The primitive types supported are tied closely to those in C:\n",
    "<table class=\"table\">\n",
    "<colgroup>\n",
    "<col style=\"width: 33%\">\n",
    "<col style=\"width: 33%\">\n",
    "<col style=\"width: 33%\">\n",
    "</colgroup>\n",
    "<thead>\n",
    "<tr class=\"row-odd\"><th class=\"head\"><p>Numpy type</p></th>\n",
    "<th class=\"head\"><p>C type</p></th>\n",
    "<th class=\"head\"><p>Description</p></th>\n",
    "</tr>\n",
    "</thead>\n",
    "<tbody>\n",
    "<tr class=\"row-even\"><td><p><a class=\"reference internal\" href=\"../reference/arrays.scalars.html#numpy.bool_\" title=\"numpy.bool_\"><code class=\"xref py py-obj docutils literal notranslate\"><span class=\"pre\">numpy.bool_</span></code></a></p></td>\n",
    "<td><p><code class=\"docutils literal notranslate\"><span class=\"pre\">bool</span></code></p></td>\n",
    "<td><p>Boolean (True or False) stored as a byte</p></td>\n",
    "</tr>\n",
    "<tr class=\"row-odd\"><td><p><a class=\"reference internal\" href=\"../reference/arrays.scalars.html#numpy.byte\" title=\"numpy.byte\"><code class=\"xref py py-obj docutils literal notranslate\"><span class=\"pre\">numpy.byte</span></code></a></p></td>\n",
    "<td><p><code class=\"docutils literal notranslate\"><span class=\"pre\">signed</span> <span class=\"pre\">char</span></code></p></td>\n",
    "<td><p>Platform-defined</p></td>\n",
    "</tr>\n",
    "<tr class=\"row-even\"><td><p><a class=\"reference internal\" href=\"../reference/arrays.scalars.html#numpy.ubyte\" title=\"numpy.ubyte\"><code class=\"xref py py-obj docutils literal notranslate\"><span class=\"pre\">numpy.ubyte</span></code></a></p></td>\n",
    "<td><p><code class=\"docutils literal notranslate\"><span class=\"pre\">unsigned</span> <span class=\"pre\">char</span></code></p></td>\n",
    "<td><p>Platform-defined</p></td>\n",
    "</tr>\n",
    "<tr class=\"row-odd\"><td><p><a class=\"reference internal\" href=\"../reference/arrays.scalars.html#numpy.short\" title=\"numpy.short\"><code class=\"xref py py-obj docutils literal notranslate\"><span class=\"pre\">numpy.short</span></code></a></p></td>\n",
    "<td><p><code class=\"docutils literal notranslate\"><span class=\"pre\">short</span></code></p></td>\n",
    "<td><p>Platform-defined</p></td>\n",
    "</tr>\n",
    "<tr class=\"row-even\"><td><p><a class=\"reference internal\" href=\"../reference/arrays.scalars.html#numpy.ushort\" title=\"numpy.ushort\"><code class=\"xref py py-obj docutils literal notranslate\"><span class=\"pre\">numpy.ushort</span></code></a></p></td>\n",
    "<td><p><code class=\"docutils literal notranslate\"><span class=\"pre\">unsigned</span> <span class=\"pre\">short</span></code></p></td>\n",
    "<td><p>Platform-defined</p></td>\n",
    "</tr>\n",
    "<tr class=\"row-odd\"><td><p><a class=\"reference internal\" href=\"../reference/arrays.scalars.html#numpy.intc\" title=\"numpy.intc\"><code class=\"xref py py-obj docutils literal notranslate\"><span class=\"pre\">numpy.intc</span></code></a></p></td>\n",
    "<td><p><code class=\"docutils literal notranslate\"><span class=\"pre\">int</span></code></p></td>\n",
    "<td><p>Platform-defined</p></td>\n",
    "</tr>\n",
    "<tr class=\"row-even\"><td><p><a class=\"reference internal\" href=\"../reference/arrays.scalars.html#numpy.uintc\" title=\"numpy.uintc\"><code class=\"xref py py-obj docutils literal notranslate\"><span class=\"pre\">numpy.uintc</span></code></a></p></td>\n",
    "<td><p><code class=\"docutils literal notranslate\"><span class=\"pre\">unsigned</span> <span class=\"pre\">int</span></code></p></td>\n",
    "<td><p>Platform-defined</p></td>\n",
    "</tr>\n",
    "<tr class=\"row-odd\"><td><p><a class=\"reference internal\" href=\"../reference/arrays.scalars.html#numpy.int_\" title=\"numpy.int_\"><code class=\"xref py py-obj docutils literal notranslate\"><span class=\"pre\">numpy.int_</span></code></a></p></td>\n",
    "<td><p><code class=\"docutils literal notranslate\"><span class=\"pre\">long</span></code></p></td>\n",
    "<td><p>Platform-defined</p></td>\n",
    "</tr>\n",
    "<tr class=\"row-even\"><td><p><a class=\"reference internal\" href=\"../reference/arrays.scalars.html#numpy.uint\" title=\"numpy.uint\"><code class=\"xref py py-obj docutils literal notranslate\"><span class=\"pre\">numpy.uint</span></code></a></p></td>\n",
    "<td><p><code class=\"docutils literal notranslate\"><span class=\"pre\">unsigned</span> <span class=\"pre\">long</span></code></p></td>\n",
    "<td><p>Platform-defined</p></td>\n",
    "</tr>\n",
    "<tr class=\"row-odd\"><td><p><a class=\"reference internal\" href=\"../reference/arrays.scalars.html#numpy.longlong\" title=\"numpy.longlong\"><code class=\"xref py py-obj docutils literal notranslate\"><span class=\"pre\">numpy.longlong</span></code></a></p></td>\n",
    "<td><p><code class=\"docutils literal notranslate\"><span class=\"pre\">long</span> <span class=\"pre\">long</span></code></p></td>\n",
    "<td><p>Platform-defined</p></td>\n",
    "</tr>\n",
    "<tr class=\"row-even\"><td><p><a class=\"reference internal\" href=\"../reference/arrays.scalars.html#numpy.ulonglong\" title=\"numpy.ulonglong\"><code class=\"xref py py-obj docutils literal notranslate\"><span class=\"pre\">numpy.ulonglong</span></code></a></p></td>\n",
    "<td><p><code class=\"docutils literal notranslate\"><span class=\"pre\">unsigned</span> <span class=\"pre\">long</span> <span class=\"pre\">long</span></code></p></td>\n",
    "<td><p>Platform-defined</p></td>\n",
    "</tr>\n",
    "<tr class=\"row-odd\"><td><p><a class=\"reference internal\" href=\"../reference/arrays.scalars.html#numpy.half\" title=\"numpy.half\"><code class=\"xref py py-obj docutils literal notranslate\"><span class=\"pre\">numpy.half</span></code></a> / <a class=\"reference internal\" href=\"../reference/arrays.scalars.html#numpy.float16\" title=\"numpy.float16\"><code class=\"xref py py-obj docutils literal notranslate\"><span class=\"pre\">numpy.float16</span></code></a></p></td>\n",
    "<td></td>\n",
    "<td><p>Half precision float:\n",
    "sign bit, 5 bits exponent, 10 bits mantissa</p></td>\n",
    "</tr>\n",
    "<tr class=\"row-even\"><td><p><a class=\"reference internal\" href=\"../reference/arrays.scalars.html#numpy.single\" title=\"numpy.single\"><code class=\"xref py py-obj docutils literal notranslate\"><span class=\"pre\">numpy.single</span></code></a></p></td>\n",
    "<td><p><code class=\"docutils literal notranslate\"><span class=\"pre\">float</span></code></p></td>\n",
    "<td><p>Platform-defined single precision float:\n",
    "typically sign bit, 8 bits exponent, 23 bits mantissa</p></td>\n",
    "</tr>\n",
    "<tr class=\"row-odd\"><td><p><a class=\"reference internal\" href=\"../reference/arrays.scalars.html#numpy.double\" title=\"numpy.double\"><code class=\"xref py py-obj docutils literal notranslate\"><span class=\"pre\">numpy.double</span></code></a></p></td>\n",
    "<td><p><code class=\"docutils literal notranslate\"><span class=\"pre\">double</span></code></p></td>\n",
    "<td><p>Platform-defined double precision float:\n",
    "typically sign bit, 11 bits exponent, 52 bits mantissa.</p></td>\n",
    "</tr>\n",
    "<tr class=\"row-even\"><td><p><a class=\"reference internal\" href=\"../reference/arrays.scalars.html#numpy.longdouble\" title=\"numpy.longdouble\"><code class=\"xref py py-obj docutils literal notranslate\"><span class=\"pre\">numpy.longdouble</span></code></a></p></td>\n",
    "<td><p><code class=\"docutils literal notranslate\"><span class=\"pre\">long</span> <span class=\"pre\">double</span></code></p></td>\n",
    "<td><p>Platform-defined extended-precision float</p></td>\n",
    "</tr>\n",
    "<tr class=\"row-odd\"><td><p><a class=\"reference internal\" href=\"../reference/arrays.scalars.html#numpy.csingle\" title=\"numpy.csingle\"><code class=\"xref py py-obj docutils literal notranslate\"><span class=\"pre\">numpy.csingle</span></code></a></p></td>\n",
    "<td><p><code class=\"docutils literal notranslate\"><span class=\"pre\">float</span> <span class=\"pre\">complex</span></code></p></td>\n",
    "<td><p>Complex number, represented by two single-precision floats (real and imaginary components)</p></td>\n",
    "</tr>\n",
    "<tr class=\"row-even\"><td><p><a class=\"reference internal\" href=\"../reference/arrays.scalars.html#numpy.cdouble\" title=\"numpy.cdouble\"><code class=\"xref py py-obj docutils literal notranslate\"><span class=\"pre\">numpy.cdouble</span></code></a></p></td>\n",
    "<td><p><code class=\"docutils literal notranslate\"><span class=\"pre\">double</span> <span class=\"pre\">complex</span></code></p></td>\n",
    "<td><p>Complex number, represented by two double-precision floats (real and imaginary components).</p></td>\n",
    "</tr>\n",
    "<tr class=\"row-odd\"><td><p><a class=\"reference internal\" href=\"../reference/arrays.scalars.html#numpy.clongdouble\" title=\"numpy.clongdouble\"><code class=\"xref py py-obj docutils literal notranslate\"><span class=\"pre\">numpy.clongdouble</span></code></a></p></td>\n",
    "<td><p><code class=\"docutils literal notranslate\"><span class=\"pre\">long</span> <span class=\"pre\">double</span> <span class=\"pre\">complex</span></code></p></td>\n",
    "<td><p>Complex number, represented by two extended-precision floats (real and imaginary components).</p></td>\n",
    "</tr>\n",
    "</tbody>\n",
    "</table>\n",
    "\n",
    "Since many of these have platform-dependent definitions, a set of fixed-size aliases are provided.\n",
    "\n",
    "NumPy numerical types are instances of dtype (data-type) objects, each having unique characteristics. the dtypes are available as np.bool_, np.float32, etc.\n",
    "\n",
    "There are 5 basic numerical types representing booleans (bool), integers (int), unsigned integers (uint) floating point (float) and complex. Those with numbers in their name indicate the bitsize of the type (i.e. how many bits are needed to represent a single value in memory). Some types, such as int and intp, have differing bitsizes, dependent on the platforms (e.g. 32-bit vs. 64-bit machines). "
   ]
  },
  {
   "cell_type": "code",
   "execution_count": 24,
   "metadata": {},
   "outputs": [
    {
     "data": {
      "text/plain": [
       "(1.0, array([1, 2, 4]), array([0, 1, 2], dtype=uint8))"
      ]
     },
     "execution_count": 24,
     "metadata": {},
     "output_type": "execute_result"
    }
   ],
   "source": [
    "x = np.float32(1.0)\n",
    "y = np.int_([1,2,4])\n",
    "z = np.arange(3, dtype=np.uint8)\n",
    "\n",
    "x, y, z"
   ]
  },
  {
   "cell_type": "markdown",
   "metadata": {},
   "source": [
    "### Indexing and slicing"
   ]
  },
  {
   "cell_type": "markdown",
   "metadata": {},
   "source": [
    "Array indexing refers to any use of the square brackets ([]) to index array values. There are many options to indexing, which give NumPy indexing great power, but with power comes some complexity and the potential for confusion. \n",
    "\n",
    "Single element indexing for a 1-D array is what one expects. It work exactly like that for other standard Python sequences. It is 0-based, and accepts negative indices for indexing from the end of the array.\n",
    "\n",
    "Unlike lists and tuples, NumPy arrays support multidimensional indexing for multidimensional arrays. That means that it is not necessary to separate each dimension’s index into its own set of square brackets."
   ]
  },
  {
   "cell_type": "code",
   "execution_count": 25,
   "metadata": {},
   "outputs": [
    {
     "data": {
      "text/plain": [
       "2"
      ]
     },
     "execution_count": 25,
     "metadata": {},
     "output_type": "execute_result"
    }
   ],
   "source": [
    "x = np.array([[2,0,2], [9,1,4], [3,4,10]])\n",
    "x[0,2]"
   ]
  },
  {
   "cell_type": "markdown",
   "metadata": {},
   "source": [
    "It is possible to slice and stride arrays to extract arrays of the same number of dimensions, but of different sizes than the original. The slicing and striding works exactly the same way it does for lists and tuples except that they can be applied to multiple dimensions as well. A few examples illustrates best:"
   ]
  },
  {
   "cell_type": "code",
   "execution_count": 27,
   "metadata": {},
   "outputs": [
    {
     "data": {
      "text/plain": [
       "(array([2, 0]), array([ 2,  4, 10]))"
      ]
     },
     "execution_count": 27,
     "metadata": {},
     "output_type": "execute_result"
    }
   ],
   "source": [
    "x[0, 0:2], x[0:3, 2]"
   ]
  },
  {
   "cell_type": "markdown",
   "metadata": {},
   "source": [
    "### Boolean or “mask” index arrays\n",
    "\n",
    "Boolean arrays used as indices are treated in a different manner entirely than index arrays. Boolean arrays must be of the same shape as the initial dimensions of the array being indexed. Unlike in the case of integer index arrays, in the boolean case, the result is a 1-D array containing all the elements in the indexed array corresponding to all the true elements in the boolean array. The elements in the indexed array are always iterated and returned in row-major (C-style) order. The result is also identical to y[np.nonzero(b)]. As with index arrays, what is returned is a copy of the data, not a view as one gets with slices."
   ]
  },
  {
   "cell_type": "code",
   "execution_count": 36,
   "metadata": {},
   "outputs": [
    {
     "data": {
      "text/plain": [
       "(array([ True,  True,  True,  True,  True, False, False, False, False,\n",
       "        False, False, False, False, False, False, False, False, False,\n",
       "        False, False, False, False, False, False, False, False, False,\n",
       "        False, False, False, False, False, False, False]),\n",
       " array([ 0,  3,  6,  9, 12]))"
      ]
     },
     "execution_count": 36,
     "metadata": {},
     "output_type": "execute_result"
    }
   ],
   "source": [
    "y = np.arange(0, 100, 3)\n",
    "b = y < 13\n",
    "\n",
    "b, y[b]"
   ]
  },
  {
   "cell_type": "markdown",
   "metadata": {},
   "source": [
    "### Transpose & Reshaping\n",
    "\n",
    "You can transpose a matrix in numpy using the transpose method."
   ]
  },
  {
   "cell_type": "code",
   "execution_count": 44,
   "metadata": {},
   "outputs": [
    {
     "name": "stdout",
     "output_type": "stream",
     "text": [
      "[[ 2  0  2]\n",
      " [ 9  1  4]\n",
      " [ 3  4 10]]\n",
      "[[ 2  9  3]\n",
      " [ 0  1  4]\n",
      " [ 2  4 10]]\n",
      "[[ 2  9  3]\n",
      " [ 0  1  4]\n",
      " [ 2  4 10]]\n"
     ]
    }
   ],
   "source": [
    "print(x)\n",
    "print(x.T)\n",
    "print(np.transpose(x))"
   ]
  },
  {
   "cell_type": "markdown",
   "metadata": {},
   "source": [
    "To reshape a matrix or tensor use the reshape method. For example, if you want reshape to a 3D tensor to a 2D matrix:"
   ]
  },
  {
   "cell_type": "code",
   "execution_count": 49,
   "metadata": {},
   "outputs": [
    {
     "data": {
      "text/plain": [
       "((2, 3, 4), (6, 4))"
      ]
     },
     "execution_count": 49,
     "metadata": {},
     "output_type": "execute_result"
    }
   ],
   "source": [
    "a = np.zeros((2, 3, 4))\n",
    "b = a.reshape((-1, 4))\n",
    "a.shape, b.shape"
   ]
  },
  {
   "cell_type": "markdown",
   "metadata": {},
   "source": [
    "'-1' here indicates you want to collapse the first two dimensions of the 3D tensor to a row in the 2D matrix."
   ]
  },
  {
   "cell_type": "markdown",
   "metadata": {},
   "source": [
    "### Random number generation and sampling"
   ]
  },
  {
   "cell_type": "markdown",
   "metadata": {},
   "source": [
    "Numpy has a strong interface for random number generation and sampling. It allows you to sample numbers from almost all types of distribution. Let say, you want to sample from a normal distribution."
   ]
  },
  {
   "cell_type": "code",
   "execution_count": 57,
   "metadata": {},
   "outputs": [
    {
     "data": {
      "image/png": "[encoded data removed]",
      "text/plain": [
       "<Figure size 432x288 with 1 Axes>"
      ]
     },
     "metadata": {
      "needs_background": "light"
     },
     "output_type": "display_data"
    }
   ],
   "source": [
    "import seaborn as sns\n",
    "import matplotlib.pyplot as plt\n",
    "\n",
    "d = np.random.randn(1000)\n",
    "\n",
    "sns.distplot(d)\n",
    "\n",
    "plt.xlabel('d')\n",
    "plt.ylabel('density')\n",
    "plt.show()"
   ]
  },
  {
   "cell_type": "markdown",
   "metadata": {},
   "source": [
    "Now lets sample from a uniform distribution"
   ]
  },
  {
   "cell_type": "code",
   "execution_count": 59,
   "metadata": {},
   "outputs": [
    {
     "data": {
      "image/png": "[encoded data removed]",
      "text/plain": [
       "<Figure size 432x288 with 1 Axes>"
      ]
     },
     "metadata": {
      "needs_background": "light"
     },
     "output_type": "display_data"
    }
   ],
   "source": [
    "u = np.random.uniform(size=10000)\n",
    "\n",
    "sns.distplot(u)\n",
    "\n",
    "plt.xlabel('u')\n",
    "plt.ylabel('density')\n",
    "plt.show()"
   ]
  },
  {
   "cell_type": "markdown",
   "metadata": {},
   "source": [
    "Numpy’s random number routines produce pseudo random numbers using combinations of a BitGenerator to create sequences and a Generator to use those sequences to sample from different statistical distributions:\n",
    "\n",
    "<strong>BitGenerators:</strong> Objects that generate random numbers. These are typically unsigned integer words filled with sequences of either 32 or 64 random bits.\n",
    "\n",
    "<strong>Generators:</strong> Objects that transform sequences of random bits from a BitGenerator into sequences of numbers that follow a specific probability distribution (such as uniform, Normal or Binomial) within a specified interval."
   ]
  },
  {
   "cell_type": "markdown",
   "metadata": {},
   "source": [
    "<h5>References:</h5>\n",
    "\n",
    "Numpy could do a lot more than what is illustrated here. But what we showed here is good enough for you to get started. You can learn lot more about numpy in:\n",
    "\n",
    "1.https://numpy.org/\n",
    "\n",
    "\n",
    "2.https://cs231n.github.io/python-numpy-tutorial/\n",
    "\n",
    "\n",
    "3.https://www.tutorialspoint.com/numpy/index.htm"
   ]
  }
 ],
 "metadata": {
  "kernelspec": {
   "display_name": "Python 3",
   "language": "python",
   "name": "python3"
  },
  "language_info": {
   "codemirror_mode": {
    "name": "ipython",
    "version": 3
   },
   "file_extension": ".py",
   "mimetype": "text/x-python",
   "name": "python",
   "nbconvert_exporter": "python",
   "pygments_lexer": "ipython3",
   "version": "3.7.5"
  }
 },
 "nbformat": 4,
 "nbformat_minor": 2
}
