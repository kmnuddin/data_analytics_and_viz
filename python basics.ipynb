{
 "cells": [
  {
   "cell_type": "markdown",
   "metadata": {},
   "source": [
    "# Data Vizualisation and Anlytics\n",
    "\n",
    "Data visualization involves the visual representation of data, ranging from single charts to comprehensive dashboards. Effective visualizations significantly reduce the amount of time it takes for your audience to process information and access valuable insights.\n",
    "\n",
    "\n",
    "Data analysis is an exploratory process that often starts with specific questions. It requires curiosity, the desire to find answers and a good level of tenacity, because those answers aren’t always easy to come by.\n",
    "\n",
    "\n",
    "Some popular tools for Data Visualization & Analytics are:\n",
    "\n",
    "<ol>\n",
    "    <li>Tableau</li>\n",
    "    <li>Looker</li>\n",
    "    <li>Zoho Analytics</li>\n",
    "    <li>Sisense</li>\n",
    "    <li>IBM Cognos Analytics</li>\n",
    "    <li>Qlik Sense</li>\n",
    "    <li>Domo</li>\n",
    "    <li>Microsoft Power BI</li>\n",
    "</ol>\n",
    "\n",
    "Most of the tools mentioned above is automated and designated for people with little or no knowledge of programming. These tools have optimized algorithms on their backend that allows visualization and analysis of Big Data (a concept which will be explained later in this course). However in this course, we will be focusing on data viz and analytic tools available for the python programming language. But if you are interested you can still check out the other tools, they are pretty cool. The reason for choosing python is to get your programming groove on and most data analytics job requires some working knowledge on R or python. Also, using a programming language like python or R allows you to have more control and learn more about the details.\n",
    "\n",
    "The libraries we will be using in this course are:\n",
    "\n",
    "<ol>\n",
    "    <li>Numpy (Linear Algebra, Probability)</li>\n",
    "    <li>Pandas (Data Manipulation)</li>\n",
    "    <li>Matplotlib (Visualization)</li>\n",
    "    <li>Seaborn (Visualization)</li>\n",
    "    <li>Plotly (Interactive Visualization)</li>\n",
    "    <li>Scipy (Statistics)</li>\n",
    "    <li>Scikit-Learn(Preprocessing, Modeling)</li>\n",
    "</ol>\n",
    "\n",
    "\n",
    "### Python\n",
    "\n",
    "<em>\"Python is an interpreted high-level general-purpose programming language. Its design philosophy emphasizes code readability with its use of significant indentation. Its language constructs as well as its object-oriented approach aim to help programmers write clear, logical code for small and large-scale projects.\n",
    "\n",
    "Python is dynamically-typed and garbage-collected. It supports multiple programming paradigms, including structured (particularly, procedural), object-oriented and functional programming. It is often described as a \"batteries included\" language due to its comprehensive standard library.\n",
    "\n",
    "Guido van Rossum began working on Python in the late 1980s, as a successor to the ABC programming language, and first released it in 1991 as Python 0.9.0. Python 2.0 was released in 2000 and introduced new features, such as list comprehensions and a garbage collection system using reference counting. Python 3.0 was released in 2008 and was a major revision of the language that is not completely backward-compatible. Python 2 was discontinued with version 2.7.18 in 2020.\n",
    "\n",
    "Python consistently ranks as one of the most popular programming languages.<em/>\"\n",
    "\n",
    "<strong>Source: Wikipedia</strong>"
   ]
  },
  {
   "cell_type": "markdown",
   "metadata": {},
   "source": [
    "<h5>Installation</h5>\n",
    "    \n",
    "There are many ways to install python. But we suggest you do it through Anaconda. Anaconda is a data science framework for python, it comes with a package manager and most of the libraries required for data viz and analytics. Here is a link on how to install Anaconda: https://docs.anaconda.com/anaconda/install/\n",
    "\n",
    "Usually data scientists uses interactive notebooks (like this doc) to do analytics and visualization. Anaconda supports some of these interactive IDEs like jupyter notebook, spyder, VS Code, etc. We prefer you use jupyter notebook for this course as it is very easy to use. As some of you could guess, this doc is written in jupyter notebook. You could go to this link https://www.dataquest.io/blog/jupyter-notebook-tutorial/ to learn the basic usage of jupyter notebook."
   ]
  },
  {
   "cell_type": "markdown",
   "metadata": {},
   "source": [
    "<h2>Usage</h2>\n",
    "<h5>Data Types</h5>\n",
    "Now lets take a dive into programming paradigm of python. First, we will discuss basic data types. The popular data types in python are int, float, bool, complex and str.\n",
    "\n"
   ]
  },
  {
   "cell_type": "code",
   "execution_count": 4,
   "metadata": {},
   "outputs": [
    {
     "data": {
      "text/plain": [
       "(int, float, bool, complex, str)"
      ]
     },
     "execution_count": 4,
     "metadata": {},
     "output_type": "execute_result"
    }
   ],
   "source": [
    "integer = 5\n",
    "floating_point = 0.001293767\n",
    "boolean = True\n",
    "complex_number = 1 + 3j\n",
    "string = 'Vata Diz'\n",
    "\n",
    "type(integer), type(floating_point), type(boolean), type(complex_number), type(string)"
   ]
  },
  {
   "cell_type": "markdown",
   "metadata": {},
   "source": [
    "The type function in python returns the data type of the variable. In order to see the output of the variable you can use the print function in python or simply put the variable at the last line of the cell. For example,"
   ]
  },
  {
   "cell_type": "code",
   "execution_count": 6,
   "metadata": {},
   "outputs": [
    {
     "name": "stdout",
     "output_type": "stream",
     "text": [
      "Vata Diz\n"
     ]
    },
    {
     "data": {
      "text/plain": [
       "(1+3j)"
      ]
     },
     "execution_count": 6,
     "metadata": {},
     "output_type": "execute_result"
    }
   ],
   "source": [
    "print(string)\n",
    "complex_number"
   ]
  },
  {
   "cell_type": "markdown",
   "metadata": {},
   "source": [
    "You can carry out basic mathmatical operation (+, -, /, x) on the numerical data types such as int, float, complex. For example,"
   ]
  },
  {
   "cell_type": "code",
   "execution_count": 16,
   "metadata": {},
   "outputs": [
    {
     "name": "stdout",
     "output_type": "stream",
     "text": [
      "15 0.0037273427269999995 0.00043125566666666666 (1+1j)\n"
     ]
    }
   ],
   "source": [
    "add = integer + 10\n",
    "mult = floating_point * 2.881\n",
    "div = floating_point / 3\n",
    "sub = complex_number - 2j\n",
    "print(add, mult, div, sub)"
   ]
  },
  {
   "cell_type": "markdown",
   "metadata": {},
   "source": [
    "In Python 3, there is effectively no limit to how long an integer value can be. Of course, it is constrained by the amount of memory your system has, as are all things, but beyond that an integer can be as long as you need it to be. \n",
    "\n",
    "The following is a bit more in-depth information on how Python represents floating-point numbers internally. You can readily use floating-point numbers in Python without understanding them to this level, so don’t worry if this seems overly complicated. The information is presented here in case you are curious.\n",
    "\n",
    "Almost all platforms represent Python float values as 64-bit “double-precision” values, according to the IEEE 754 standard. In that case, the maximum value a floating-point number can have is approximately 1.8 ⨉ 10^308. Python will indicate a number greater than that by the string inf:"
   ]
  },
  {
   "cell_type": "code",
   "execution_count": 8,
   "metadata": {},
   "outputs": [
    {
     "data": {
      "text/plain": [
       "(1.79e+308, inf)"
      ]
     },
     "execution_count": 8,
     "metadata": {},
     "output_type": "execute_result"
    }
   ],
   "source": [
    "1.79e308, 1.8e308"
   ]
  },
  {
   "cell_type": "markdown",
   "metadata": {},
   "source": [
    "Applying math operators on non-numerical data types work differently. For example, addition of two strings is actually a concatenation operation."
   ]
  },
  {
   "cell_type": "code",
   "execution_count": 14,
   "metadata": {},
   "outputs": [
    {
     "data": {
      "text/plain": [
       "'Kazi Ashraf'"
      ]
     },
     "execution_count": 14,
     "metadata": {},
     "output_type": "execute_result"
    }
   ],
   "source": [
    "'Kazi ' + 'Ashraf'"
   ]
  },
  {
   "cell_type": "markdown",
   "metadata": {},
   "source": [
    "However,"
   ]
  },
  {
   "cell_type": "code",
   "execution_count": 15,
   "metadata": {},
   "outputs": [
    {
     "ename": "TypeError",
     "evalue": "unsupported operand type(s) for -: 'str' and 'str'",
     "output_type": "error",
     "traceback": [
      "\u001b[0;31m---------------------------------------------------------------------------\u001b[0m",
      "\u001b[0;31mTypeError\u001b[0m                                 Traceback (most recent call last)",
      "\u001b[0;32m<ipython-input-15-61dfac4c97d3>\u001b[0m in \u001b[0;36m<module>\u001b[0;34m\u001b[0m\n\u001b[0;32m----> 1\u001b[0;31m \u001b[0;34m'Kazi'\u001b[0m \u001b[0;34m-\u001b[0m \u001b[0;34m'Ashraf'\u001b[0m\u001b[0;34m\u001b[0m\u001b[0;34m\u001b[0m\u001b[0m\n\u001b[0m",
      "\u001b[0;31mTypeError\u001b[0m: unsupported operand type(s) for -: 'str' and 'str'"
     ]
    }
   ],
   "source": [
    "'Kazi' - 'Ashraf'"
   ]
  },
  {
   "cell_type": "markdown",
   "metadata": {},
   "source": [
    "\n",
    "There is a concept called operator overloading. If you want the mathmatical operators to act differently when its applied to non-numerical data types, its something you should look up."
   ]
  },
  {
   "cell_type": "markdown",
   "metadata": {},
   "source": [
    "\n",
    "<h5>Data Structures</h5>\n",
    "\n",
    "Now lets take a look at some of the default data structures in python. The ones you need more often are:\n",
    "\n",
    "<ol>\n",
    "    <li><strong>List:</strong> Lists are a part of the core Python language. Despite their name, Python’s lists are implemented as dynamic arrays behind the scenes. This means a list allows elements to be added or removed, and the list will automatically adjust the backing store that holds these elements by allocating or releasing memory.</li>        \n",
    "    <li><strong>Dictionary:</strong> In Python, dictionaries (or dicts for short) are a central data structure. Dicts store an arbitrary number of objects, each identified by a unique dictionary key. Phone books make a decent real-world analog for dictionary objects. They allow you to quickly retrieve the information (phone number) associated with a given key (a person’s name). Instead of having to read a phone book front to back to find someone’s number, you can jump more or less directly to a name and look up the associated information.</li>    \n",
    "    <li><strong>Tuples:</strong> Just like lists, tuples are part of the Python core language. Unlike lists, however, Python’s tuple objects are immutable. This means elements can’t be added or removed dynamically—all elements in a tuple must be defined at creation time. Tuples are another data structure that can hold elements of arbitrary data types. Having this flexibility is powerful, but again, it also means that data is less tightly packed than it would be in a typed array.</li>\n",
    "</ol>"
   ]
  },
  {
   "cell_type": "code",
   "execution_count": 26,
   "metadata": {},
   "outputs": [
    {
     "name": "stdout",
     "output_type": "stream",
     "text": [
      "Accessing elements in list:\n",
      "1 2\n",
      "Accessing elements in dict:\n",
      "7754 7864\n",
      "Accessing elements in tuples:\n",
      "1 3\n"
     ]
    }
   ],
   "source": [
    "sample_list = [1,2,3,4]\n",
    "sample_dict = {'Brian': 7754, 'Jose': 7864}\n",
    "sample_tuple = (1,3,4,5)\n",
    "\n",
    "## You access an element on the list by it's index. Indexes starts from zero in python. For example:\n",
    "\n",
    "print('Accessing elements in list:')\n",
    "print(sample_list[0], sample_list[1])\n",
    "\n",
    "## You access elements on the dictionaries by keys.\n",
    "\n",
    "print('Accessing elements in dict:')\n",
    "print(sample_dict['Brian'], sample_dict['Jose'])\n",
    "\n",
    "## You access elements on tuples in the same way as lists, using indexes.\n",
    "\n",
    "print('Accessing elements in tuples:')\n",
    "print(sample_tuple[0], sample_tuple[1])"
   ]
  },
  {
   "cell_type": "markdown",
   "metadata": {},
   "source": [
    "You can update the values in a list by the assignment operator '='. You can append values to a list. Remember the append function will add values at the end of the list while the insert function allows you to insert values at a specific location of the list. You can delete an element in the list by calling the remove function. The remove function delete elements by value rather than indexes. You can learn more about the list function in this link: https://www.programiz.com/python-programming/methods/list\n",
    "\n",
    "However, you cannot update or append new values to tuple like tuple or dictionaries as they are immutable."
   ]
  },
  {
   "cell_type": "code",
   "execution_count": 27,
   "metadata": {},
   "outputs": [
    {
     "name": "stdout",
     "output_type": "stream",
     "text": [
      "Updated List:\n",
      "[1, 9, 4, 10]\n"
     ]
    },
    {
     "ename": "TypeError",
     "evalue": "'tuple' object does not support item assignment",
     "output_type": "error",
     "traceback": [
      "\u001b[0;31m---------------------------------------------------------------------------\u001b[0m",
      "\u001b[0;31mTypeError\u001b[0m                                 Traceback (most recent call last)",
      "\u001b[0;32m<ipython-input-27-ccd4b6818bfe>\u001b[0m in \u001b[0;36m<module>\u001b[0;34m\u001b[0m\n\u001b[1;32m      8\u001b[0m \u001b[0mprint\u001b[0m\u001b[0;34m(\u001b[0m\u001b[0msample_list\u001b[0m\u001b[0;34m)\u001b[0m\u001b[0;34m\u001b[0m\u001b[0;34m\u001b[0m\u001b[0m\n\u001b[1;32m      9\u001b[0m \u001b[0;34m\u001b[0m\u001b[0m\n\u001b[0;32m---> 10\u001b[0;31m \u001b[0msample_tuple\u001b[0m\u001b[0;34m[\u001b[0m\u001b[0;36m0\u001b[0m\u001b[0;34m]\u001b[0m \u001b[0;34m=\u001b[0m \u001b[0;36m4\u001b[0m\u001b[0;34m\u001b[0m\u001b[0;34m\u001b[0m\u001b[0m\n\u001b[0m\u001b[1;32m     11\u001b[0m \u001b[0;34m\u001b[0m\u001b[0m\n\u001b[1;32m     12\u001b[0m \u001b[0mprint\u001b[0m\u001b[0;34m(\u001b[0m\u001b[0;34m'Updated Tuple:'\u001b[0m\u001b[0;34m)\u001b[0m\u001b[0;34m\u001b[0m\u001b[0;34m\u001b[0m\u001b[0m\n",
      "\u001b[0;31mTypeError\u001b[0m: 'tuple' object does not support item assignment"
     ]
    }
   ],
   "source": [
    "sample_list[2] = 9\n",
    "\n",
    "sample_list.append(10)\n",
    "\n",
    "sample_list.remove(2)\n",
    "\n",
    "print('Updated List:')\n",
    "print(sample_list)\n",
    "\n",
    "sample_tuple[0] = 4\n",
    "\n",
    "print('Updated Tuple:')\n",
    "print(sample_tuple)"
   ]
  },
  {
   "cell_type": "markdown",
   "metadata": {},
   "source": [
    "You can add new key value pairs to dictionaries using the assignement operator ('=') only. For example,"
   ]
  },
  {
   "cell_type": "code",
   "execution_count": 29,
   "metadata": {},
   "outputs": [
    {
     "name": "stdout",
     "output_type": "stream",
     "text": [
      "Updated dict:\n",
      "{'Brian': 7611, 'Ross': 7891, 'Gandalf': 7864}\n"
     ]
    }
   ],
   "source": [
    "## Adding new key value pairs to a dictionary\n",
    "sample_dict['Ross'] = 7891\n",
    "\n",
    "## Updating existing value of a key\n",
    "sample_dict['Brian'] = 7611\n",
    "\n",
    "## Updating a key\n",
    "sample_dict['Gandalf'] = sample_dict.pop('Jose')\n",
    "\n",
    "print('Updated dict:')\n",
    "\n",
    "print(sample_dict)"
   ]
  },
  {
   "cell_type": "markdown",
   "metadata": {},
   "source": [
    "Learn more about dictionary methods using this link: https://www.programiz.com/python-programming/methods/dictionary/"
   ]
  },
  {
   "cell_type": "markdown",
   "metadata": {},
   "source": [
    "<h5>Loops</h5>\n",
    "\n",
    "In order to iterate over a list or dict we need to use a <strong>for</strong> loop."
   ]
  },
  {
   "cell_type": "code",
   "execution_count": 35,
   "metadata": {},
   "outputs": [
    {
     "name": "stdout",
     "output_type": "stream",
     "text": [
      "Iterating over a list:\n",
      "1\n",
      "9\n",
      "4\n",
      "10\n",
      "\n",
      "\n",
      "Iterating over a dictionary:\n",
      "Brian 7611\n",
      "Ross 7891\n",
      "Gandalf 7864\n"
     ]
    }
   ],
   "source": [
    "print('Iterating over a list:')\n",
    "for value in sample_list:\n",
    "    print(value)\n",
    "\n",
    "print('\\n')\n",
    "print('Iterating over a dictionary:')\n",
    "for key, value in sample_dict.items():\n",
    "    print(key, value)"
   ]
  },
  {
   "cell_type": "markdown",
   "metadata": {},
   "source": [
    "for loops are traditionally used when you have a block of code which you want to repeat a fixed number of times. The Python for statement iterates over the members of a sequence in order, executing the block each time. Contrast the for statement with the ''while'' loop, used when a condition needs to be checked each iteration, or to repeat a block of code forever. For example:\n",
    "\n",
    "For loop from 0 to 2, therefore running 3 times."
   ]
  },
  {
   "cell_type": "code",
   "execution_count": 36,
   "metadata": {},
   "outputs": [
    {
     "name": "stdout",
     "output_type": "stream",
     "text": [
      "We're on time 0\n",
      "We're on time 1\n",
      "We're on time 2\n"
     ]
    }
   ],
   "source": [
    "for x in range(0, 3):\n",
    "    print(\"We're on time %d\" % (x))"
   ]
  },
  {
   "cell_type": "markdown",
   "metadata": {},
   "source": [
    "While loop from 1 to infinity, therefore running forever."
   ]
  },
  {
   "cell_type": "code",
   "execution_count": 59,
   "metadata": {
    "scrolled": true
   },
   "outputs": [
    {
     "name": "stdout",
     "output_type": "stream",
     "text": [
      "To infinity and beyond! We're getting close, on 1 now!\n",
      "To infinity and beyond! We're getting close, on 2 now!\n",
      "To infinity and beyond! We're getting close, on 3 now!\n",
      "To infinity and beyond! We're getting close, on 4 now!\n",
      "To infinity and beyond! We're getting close, on 5 now!\n",
      "To infinity and beyond! We're getting close, on 6 now!\n",
      "To infinity and beyond! We're getting close, on 7 now!\n",
      "To infinity and beyond! We're getting close, on 8 now!\n",
      "To infinity and beyond! We're getting close, on 9 now!\n",
      "To infinity and beyond! We're getting close, on 10 now!\n",
      "To infinity and beyond! We're getting close, on 11 now!\n",
      "To infinity and beyond! We're getting close, on 12 now!\n",
      "To infinity and beyond! We're getting close, on 13 now!\n",
      "To infinity and beyond! We're getting close, on 14 now!\n",
      "To infinity and beyond! We're getting close, on 15 now!\n",
      "To infinity and beyond! We're getting close, on 16 now!\n",
      "To infinity and beyond! We're getting close, on 17 now!\n",
      "To infinity and beyond! We're getting close, on 18 now!\n",
      "To infinity and beyond! We're getting close, on 19 now!\n",
      "To infinity and beyond! We're getting close, on 20 now!\n",
      "To infinity and beyond! We're getting close, on 21 now!\n",
      "To infinity and beyond! We're getting close, on 22 now!\n",
      "To infinity and beyond! We're getting close, on 23 now!\n",
      "To infinity and beyond! We're getting close, on 24 now!\n",
      "To infinity and beyond! We're getting close, on 25 now!\n",
      "To infinity and beyond! We're getting close, on 26 now!\n",
      "To infinity and beyond! We're getting close, on 27 now!\n",
      "To infinity and beyond! We're getting close, on 28 now!\n",
      "To infinity and beyond! We're getting close, on 29 now!\n",
      "To infinity and beyond! We're getting close, on 30 now!\n",
      "To infinity and beyond! We're getting close, on 31 now!\n",
      "To infinity and beyond! We're getting close, on 32 now!\n",
      "To infinity and beyond! We're getting close, on 33 now!\n",
      "To infinity and beyond! We're getting close, on 34 now!\n",
      "To infinity and beyond! We're getting close, on 35 now!\n",
      "To infinity and beyond! We're getting close, on 36 now!\n",
      "To infinity and beyond! We're getting close, on 37 now!\n",
      "To infinity and beyond! We're getting close, on 38 now!\n",
      "To infinity and beyond! We're getting close, on 39 now!\n",
      "To infinity and beyond! We're getting close, on 40 now!\n",
      "To infinity and beyond! We're getting close, on 41 now!\n",
      "To infinity and beyond! We're getting close, on 42 now!\n",
      "To infinity and beyond! We're getting close, on 43 now!\n",
      "To infinity and beyond! We're getting close, on 44 now!\n",
      "To infinity and beyond! We're getting close, on 45 now!\n",
      "To infinity and beyond! We're getting close, on 46 now!\n",
      "To infinity and beyond! We're getting close, on 47 now!\n",
      "To infinity and beyond! We're getting close, on 48 now!\n",
      "To infinity and beyond! We're getting close, on 49 now!\n",
      "To infinity and beyond! We're getting close, on 50 now!\n",
      "To infinity and beyond! We're getting close, on 51 now!\n",
      "To infinity and beyond! We're getting close, on 52 now!\n",
      "To infinity and beyond! We're getting close, on 53 now!\n",
      "To infinity and beyond! We're getting close, on 54 now!\n",
      "To infinity and beyond! We're getting close, on 55 now!\n",
      "To infinity and beyond! We're getting close, on 56 now!\n",
      "To infinity and beyond! We're getting close, on 57 now!\n",
      "To infinity and beyond! We're getting close, on 58 now!\n",
      "To infinity and beyond! We're getting close, on 59 now!\n",
      "To infinity and beyond! We're getting close, on 60 now!\n",
      "To infinity and beyond! We're getting close, on 61 now!\n",
      "To infinity and beyond! We're getting close, on 62 now!\n",
      "To infinity and beyond! We're getting close, on 63 now!\n",
      "To infinity and beyond! We're getting close, on 64 now!\n",
      "To infinity and beyond! We're getting close, on 65 now!\n",
      "To infinity and beyond! We're getting close, on 66 now!\n",
      "To infinity and beyond! We're getting close, on 67 now!\n",
      "To infinity and beyond! We're getting close, on 68 now!\n",
      "To infinity and beyond! We're getting close, on 69 now!\n",
      "To infinity and beyond! We're getting close, on 70 now!\n",
      "To infinity and beyond! We're getting close, on 71 now!\n",
      "To infinity and beyond! We're getting close, on 72 now!\n",
      "To infinity and beyond! We're getting close, on 73 now!\n",
      "To infinity and beyond! We're getting close, on 74 now!\n",
      "To infinity and beyond! We're getting close, on 75 now!\n",
      "To infinity and beyond! We're getting close, on 76 now!\n",
      "To infinity and beyond! We're getting close, on 77 now!\n",
      "To infinity and beyond! We're getting close, on 78 now!\n",
      "To infinity and beyond! We're getting close, on 79 now!\n",
      "To infinity and beyond! We're getting close, on 80 now!\n",
      "To infinity and beyond! We're getting close, on 81 now!\n",
      "To infinity and beyond! We're getting close, on 82 now!\n",
      "To infinity and beyond! We're getting close, on 83 now!\n",
      "To infinity and beyond! We're getting close, on 84 now!\n",
      "To infinity and beyond! We're getting close, on 85 now!\n",
      "To infinity and beyond! We're getting close, on 86 now!\n",
      "To infinity and beyond! We're getting close, on 87 now!\n",
      "To infinity and beyond! We're getting close, on 88 now!\n",
      "To infinity and beyond! We're getting close, on 89 now!\n",
      "To infinity and beyond! We're getting close, on 90 now!\n",
      "To infinity and beyond! We're getting close, on 91 now!\n",
      "To infinity and beyond! We're getting close, on 92 now!\n",
      "To infinity and beyond! We're getting close, on 93 now!\n",
      "To infinity and beyond! We're getting close, on 94 now!\n",
      "To infinity and beyond! We're getting close, on 95 now!\n",
      "To infinity and beyond! We're getting close, on 96 now!\n",
      "To infinity and beyond! We're getting close, on 97 now!\n",
      "To infinity and beyond! We're getting close, on 98 now!\n",
      "To infinity and beyond! We're getting close, on 99 now!\n"
     ]
    }
   ],
   "source": [
    "x = 1\n",
    "while True:\n",
    "    print(\"To infinity and beyond! We're getting close, on %d now!\" % (x))\n",
    "    x += 1\n",
    "    \n",
    "    if x == 100:\n",
    "        break"
   ]
  },
  {
   "cell_type": "markdown",
   "metadata": {},
   "source": [
    "As you can see, these loop constructs serve different purposes. The for loop runs for a fixed amount - in this case, while the while loop runs until the loop condition changes; in this example, the condition is the boolean True which will never change, so it could theoretically run forever. You could use a for loop with a huge number in order to gain the same effect as a while loop, but what's the point of doing that when you have a construct that already exists? As the old saying goes, \"why try to reinvent the wheel?\".\n",
    "\n",
    "\n",
    "When you have a block of code you want to run x number of times, then a block of code within that code which you want to run y number of times, you use what is known as a \"nested loop\". In Python, these are heavily used whenever someone has a list of lists - an iterable object within an iterable object."
   ]
  },
  {
   "cell_type": "code",
   "execution_count": 38,
   "metadata": {
    "collapsed": true
   },
   "outputs": [
    {
     "name": "stdout",
     "output_type": "stream",
     "text": [
      "1 * 1 = 1\n",
      "1 * 2 = 2\n",
      "1 * 3 = 3\n",
      "1 * 4 = 4\n",
      "1 * 5 = 5\n",
      "1 * 6 = 6\n",
      "1 * 7 = 7\n",
      "1 * 8 = 8\n",
      "1 * 9 = 9\n",
      "1 * 10 = 10\n",
      "2 * 1 = 2\n",
      "2 * 2 = 4\n",
      "2 * 3 = 6\n",
      "2 * 4 = 8\n",
      "2 * 5 = 10\n",
      "2 * 6 = 12\n",
      "2 * 7 = 14\n",
      "2 * 8 = 16\n",
      "2 * 9 = 18\n",
      "2 * 10 = 20\n",
      "3 * 1 = 3\n",
      "3 * 2 = 6\n",
      "3 * 3 = 9\n",
      "3 * 4 = 12\n",
      "3 * 5 = 15\n",
      "3 * 6 = 18\n",
      "3 * 7 = 21\n",
      "3 * 8 = 24\n",
      "3 * 9 = 27\n",
      "3 * 10 = 30\n",
      "4 * 1 = 4\n",
      "4 * 2 = 8\n",
      "4 * 3 = 12\n",
      "4 * 4 = 16\n",
      "4 * 5 = 20\n",
      "4 * 6 = 24\n",
      "4 * 7 = 28\n",
      "4 * 8 = 32\n",
      "4 * 9 = 36\n",
      "4 * 10 = 40\n",
      "5 * 1 = 5\n",
      "5 * 2 = 10\n",
      "5 * 3 = 15\n",
      "5 * 4 = 20\n",
      "5 * 5 = 25\n",
      "5 * 6 = 30\n",
      "5 * 7 = 35\n",
      "5 * 8 = 40\n",
      "5 * 9 = 45\n",
      "5 * 10 = 50\n",
      "6 * 1 = 6\n",
      "6 * 2 = 12\n",
      "6 * 3 = 18\n",
      "6 * 4 = 24\n",
      "6 * 5 = 30\n",
      "6 * 6 = 36\n",
      "6 * 7 = 42\n",
      "6 * 8 = 48\n",
      "6 * 9 = 54\n",
      "6 * 10 = 60\n",
      "7 * 1 = 7\n",
      "7 * 2 = 14\n",
      "7 * 3 = 21\n",
      "7 * 4 = 28\n",
      "7 * 5 = 35\n",
      "7 * 6 = 42\n",
      "7 * 7 = 49\n",
      "7 * 8 = 56\n",
      "7 * 9 = 63\n",
      "7 * 10 = 70\n",
      "8 * 1 = 8\n",
      "8 * 2 = 16\n",
      "8 * 3 = 24\n",
      "8 * 4 = 32\n",
      "8 * 5 = 40\n",
      "8 * 6 = 48\n",
      "8 * 7 = 56\n",
      "8 * 8 = 64\n",
      "8 * 9 = 72\n",
      "8 * 10 = 80\n",
      "9 * 1 = 9\n",
      "9 * 2 = 18\n",
      "9 * 3 = 27\n",
      "9 * 4 = 36\n",
      "9 * 5 = 45\n",
      "9 * 6 = 54\n",
      "9 * 7 = 63\n",
      "9 * 8 = 72\n",
      "9 * 9 = 81\n",
      "9 * 10 = 90\n",
      "10 * 1 = 10\n",
      "10 * 2 = 20\n",
      "10 * 3 = 30\n",
      "10 * 4 = 40\n",
      "10 * 5 = 50\n",
      "10 * 6 = 60\n",
      "10 * 7 = 70\n",
      "10 * 8 = 80\n",
      "10 * 9 = 90\n",
      "10 * 10 = 100\n"
     ]
    }
   ],
   "source": [
    "for x in range(1, 11):\n",
    "    for y in range(1, 11):\n",
    "        print('%d * %d = %d' % (x, y, x*y))"
   ]
  },
  {
   "cell_type": "markdown",
   "metadata": {},
   "source": [
    "Like the while loop, the for loop can be made to exit before the given object is finished. This is done using the break statement, which will immediately drop out of the loop and contine execution at the first statement after the block. You can also have an optional else clause, which will run should the for loop exit cleanly - that is, without breaking."
   ]
  },
  {
   "cell_type": "code",
   "execution_count": 39,
   "metadata": {},
   "outputs": [],
   "source": [
    "for x in range(3):\n",
    "    if x == 1:\n",
    "        break"
   ]
  },
  {
   "cell_type": "markdown",
   "metadata": {},
   "source": [
    "<h5>Conditional Statements</h5>\n",
    "\n",
    "Let's talk about conditional statements in python. Conditional statement in python perform different computations or actions depending on whether a specific boolean constraint evaluates to true or false. Conditional statements are handled by 'if' statements in python.\n",
    "\n",
    "Python if statement is used for decision-making operations. It contains a body of code which runs only when the condition given in the if statement is true. If the condition is false, then the optional else statement runs which contains some code for the else condition.\n",
    "\n",
    "When you want to justify one condition while the other condition is not true, then you use python if else statement."
   ]
  },
  {
   "cell_type": "markdown",
   "metadata": {},
   "source": [
    "![](if_then_flowchart.png)"
   ]
  },
  {
   "cell_type": "code",
   "execution_count": 40,
   "metadata": {},
   "outputs": [
    {
     "name": "stdout",
     "output_type": "stream",
     "text": [
      "y is less than x\n"
     ]
    }
   ],
   "source": [
    "x = 10\n",
    "y = 1\n",
    "\n",
    "if y < x:\n",
    "    print('y is less than x')"
   ]
  },
  {
   "cell_type": "code",
   "execution_count": 43,
   "metadata": {},
   "outputs": [
    {
     "name": "stdout",
     "output_type": "stream",
     "text": [
      "Positive number\n"
     ]
    }
   ],
   "source": [
    "'''In this program, \n",
    "we check if the number is positive or\n",
    "negative or zero and \n",
    "display an appropriate message'''\n",
    "\n",
    "num = 3.4\n",
    "\n",
    "# Try these two variations as well:\n",
    "# num = 0\n",
    "# num = -4.5\n",
    "\n",
    "if num > 0:\n",
    "    print(\"Positive number\")\n",
    "elif num == 0:\n",
    "    print(\"Zero\")\n",
    "else:\n",
    "    print(\"Negative number\")"
   ]
  },
  {
   "cell_type": "markdown",
   "metadata": {},
   "source": [
    "<h5>Object Oriented Programming</h5>\n",
    "\n",
    "A lot of you most prabably has some knowledge about OOP. Python supports OOP, however, you don't need to know a lot about it because data analytics usually don't require a lot of OOP. It is required sometimes in creating pipelines for analysis and visualization. So I will just put it out here, in case any of you is interested. \n",
    "\n",
    "Object-oriented programming (OOP) is a method of structuring a program by bundling related properties and behaviors into individual objects. Conceptually, objects are like the components of a system. Think of a program as a factory assembly line of sorts. At each step of the assembly line a system component processes some material, ultimately transforming raw material into a finished product.\n",
    "\n",
    "An object contains data, like the raw or preprocessed materials at each step on an assembly line, and behavior, like the action each assembly line component performs. \n",
    "\n",
    "What you really need to know in OOP is,\n",
    "<ol>\n",
    "    <li>How to define a class?</li>\n",
    "    <li>How to create an instance of a class?</li>\n",
    "    <li>How to define relationship between different classes through inheritence?</li>\n",
    "</ol>\n",
    "\n",
    "Lets first talk about classes. Classes are used to create user-defined data structures. Classes define functions called methods, which identify the behaviors and actions that an object created from the class can perform with its data. A class is a blueprint for how something should be defined. It doesn’t actually contain any data. For example, lets define an animal class."
   ]
  },
  {
   "cell_type": "code",
   "execution_count": 49,
   "metadata": {},
   "outputs": [],
   "source": [
    "class Animal:\n",
    "    def __init__(self, kind, name, age):\n",
    "        self.kind = kind\n",
    "        self.name = name\n",
    "        self.age = age\n",
    "        \n",
    "    def speak(self, sound):\n",
    "        pass"
   ]
  },
  {
   "cell_type": "markdown",
   "metadata": {},
   "source": [
    "The __init__ method is called a constructor. It is a method to initialize the instance of a class. \n",
    "\n",
    "The pass keyword is used when the method is designed to be overridden by another child class. The variables defined with self are called class attributes. For example, in the Animal class, kind, name and age are class attributes."
   ]
  },
  {
   "cell_type": "code",
   "execution_count": 57,
   "metadata": {},
   "outputs": [
    {
     "data": {
      "text/plain": [
       "'Miles'"
      ]
     },
     "execution_count": 57,
     "metadata": {},
     "output_type": "execute_result"
    }
   ],
   "source": [
    "pet = Animal('dog', 'Miles', 4)\n",
    "pet.name"
   ]
  },
  {
   "cell_type": "markdown",
   "metadata": {},
   "source": [
    "While the class is the blueprint, an instance is an object that is built from a class and contains real data. An instance of the Animal class is not a blueprint anymore. It’s an actual animal with a name, like Miles, a four year old dog.\n",
    "\n",
    "A class is like a form or questionnaire. An instance is like a form that has been filled out with information. Just like many people can fill out the same form with their own unique information, many instances can be created from a single class."
   ]
  },
  {
   "cell_type": "markdown",
   "metadata": {},
   "source": [
    "<strong>Inheritance</strong> is the process by which one class takes on the attributes and methods of another. Newly formed classes are called child classes, and the classes that child classes are derived from are called parent classes. Child classes can override or extend the attributes and methods of parent classes. In other words, child classes inherit all of the parent’s attributes and methods but can also specify attributes and methods that are unique to themselves. Although the analogy isn’t perfect, you can think of object inheritance sort of like genetic inheritance. You may have inherited your hair color from your mother. It’s an attribute you were born with. Let’s say you decide to color your hair purple. Assuming your mother doesn’t have purple hair, you’ve just overridden the hair color attribute that you inherited from your mom. You also inherit, in a sense, your language from your parents. If your parents speak English, then you’ll also speak English. Now imagine you decide to learn a second language, like German. In this case you’ve extended your attributes because you’ve added an attribute that your parents don’t have.\n",
    "\n",
    "Now lets define a cat class that inherits from the Animal class. If the constructor is not defined in the child class, the child class will use the constructor of the parent class. For example, the cat class below does not have a constructor, so it will use the constructor of the Animal class."
   ]
  },
  {
   "cell_type": "code",
   "execution_count": 53,
   "metadata": {},
   "outputs": [],
   "source": [
    "class Cat(Animal):\n",
    "    \n",
    "    def speak(self, sound='Meaow'):\n",
    "        return sound"
   ]
  },
  {
   "cell_type": "code",
   "execution_count": 56,
   "metadata": {},
   "outputs": [
    {
     "data": {
      "text/plain": [
       "'Meaow'"
      ]
     },
     "execution_count": 56,
     "metadata": {},
     "output_type": "execute_result"
    }
   ],
   "source": [
    "cat = Cat('scottish fold', 'Junior', 10)\n",
    "cat.speak()"
   ]
  },
  {
   "cell_type": "markdown",
   "metadata": {},
   "source": [
    "To override a method defined on the parent class, you define a method with the same name on the child class. Like the speak method is overridden in the cat class from its original parent class."
   ]
  },
  {
   "cell_type": "markdown",
   "metadata": {},
   "source": [
    "<h5>References</h5>\n",
    "\n",
    "Just like other programming languages, you cannot just learn all the things about python in one day. But this tutorial is good enough to get you started. I have made this notebook using different contents from the internet. I will leave the references below. Feel free to check out these sites.\n",
    "\n",
    "<ul>\n",
    "    <li>https://www.programiz.com/python-programming</li>\n",
    "    <li>https://wiki.python.org/</li>\n",
    "    <li>https://realpython.com/</li>\n",
    "    <li>https://www.geeksforgeeks.org/</li>\n",
    "    <li>https://www.tutorialspoint.com/python</li>    \n",
    "</ul>"
   ]
  },
  {
   "cell_type": "markdown",
   "metadata": {},
   "source": [
    "## Programming Test\n",
    "\n",
    "\n",
    "1. Use nested for loops to find all the three-digit Armstrong numbers. Armstrong\n",
    "numbers are three digit numbers such that the sum of the digits cubed is equal to\n",
    "the number itself.\n",
    "For example, 153 is an Armstrong number because 1³ + 5³ + 3³ = 153.\n",
    "However, 294 is not, because 2³ + 9³ + 4³ = 801 (not 294)\n",
    "\n",
    "\n",
    "2. Write a function to filter a dictionary by values. The function should be able to filter\n",
    "values greater or less than a constant integer or float.\n",
    "\n",
    "\n",
    "3. Use nested for loops to find four positive integers whose sum is 45, and such that the\n",
    "first plus 2, the second minus 2, the third multiplied by 2, and the fourth divided by\n",
    "2 are all equal.\n",
    "\n",
    "        Please note that these four numbers are integers, and not necessarily just digits. In\n",
    "        this problem, we are no longer finding a single four-digit number; we are finding four\n",
    "        separate numbers. However, since we are trying to generate all possible combinations,\n",
    "        the procedure should be the same.\n",
    "        Here’s what that means.\n",
    "\n",
    "        • The output of your program should be four numbers. They won’t be negative\n",
    "        numbers.\n",
    "\n",
    "        • When you add the four numbers, they add up to 45.\n",
    "\n",
    "        • If you add 2 to the first number, you get the same answer as if you had subtracted\n",
    "        2 from the second number.\n",
    "\n",
    "        • If you multiply the third number by two, you also get the same answer.\n",
    "\n",
    "        • If you divide the fourth number by two, you also get the same answer.\n",
    "\n",
    "        The following mathematical statments are also true about these numbers:\n",
    "        A + 2 = B - 2 = C × 2 = D ÷ 2\n",
    "        and\n",
    "        A + B + C + D = 45\n",
    "        \n",
    "4. A palindromic number reads the same both ways. The largest palindrome made from\n",
    "the product of two 2-digit numbers is 9009 = 91 × 99.\n",
    "Find the largest palindrome made from the product of two 3-digit numbers."
   ]
  }
 ],
 "metadata": {
  "kernelspec": {
   "display_name": "Python 3",
   "language": "python",
   "name": "python3"
  },
  "language_info": {
   "codemirror_mode": {
    "name": "ipython",
    "version": 3
   },
   "file_extension": ".py",
   "mimetype": "text/x-python",
   "name": "python",
   "nbconvert_exporter": "python",
   "pygments_lexer": "ipython3",
   "version": "3.7.5"
  }
 },
 "nbformat": 4,
 "nbformat_minor": 2
}
